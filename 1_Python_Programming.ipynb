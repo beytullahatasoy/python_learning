{
  "nbformat": 4,
  "nbformat_minor": 0,
  "metadata": {
    "colab": {
      "provenance": [],
      "include_colab_link": true
    },
    "kernelspec": {
      "name": "python3",
      "display_name": "Python 3"
    },
    "language_info": {
      "name": "python"
    }
  },
  "cells": [
    {
      "cell_type": "markdown",
      "metadata": {
        "id": "view-in-github",
        "colab_type": "text"
      },
      "source": [
        "<a href=\"https://colab.research.google.com/github/beytullahatasoy/python_learning/blob/main/1_Python_Programming.ipynb\" target=\"_parent\"><img src=\"https://colab.research.google.com/assets/colab-badge.svg\" alt=\"Open In Colab\"/></a>"
      ]
    },
    {
      "cell_type": "markdown",
      "source": [
        "# Python Giriş"
      ],
      "metadata": {
        "id": "eLj2tW2JwJjr"
      }
    },
    {
      "cell_type": "code",
      "source": [
        "### Python Söz Dizimi\n",
        "\"\"\"\n",
        "* Python'da kodlar genellikle satır satır yazılır. Her komut yeni bir satıra yazılır.\n",
        "* Python'da blok yapıları (fonksiyonlar, döngüler, koşullar vb.) girintileme ile belirlenir. Genellikle 4 boşluk girintisi kullanılır.\n",
        "* Python'da girintileme zorunludur. Yanlış girintileme IndentationError hatasına yol açar.\n",
        "\n",
        "* Python'da kod açıklamaları (yorumlar) yazmak için # karakteri kullanılır. Yorumlar, kodun çalışmasını etkilemez.\n",
        "\n",
        "* Python'da değişken isimleri büyük/küçük harfe duyarlıdır. Yani isim ve İsim farklı değişkenlerdir.\n",
        "\"\"\""
      ],
      "metadata": {
        "id": "3WERemTt4ALc"
      },
      "execution_count": null,
      "outputs": []
    },
    {
      "cell_type": "code",
      "execution_count": null,
      "metadata": {
        "id": "3L95zuaP0wHR",
        "colab": {
          "base_uri": "https://localhost:8080/"
        },
        "outputId": "9434349b-d096-4f11-b21e-b89216a8343b"
      },
      "outputs": [
        {
          "output_type": "stream",
          "name": "stdout",
          "text": [
            "Python 3.10.12\n"
          ]
        }
      ],
      "source": [
        "# python2 veya python3\n",
        "!python --version"
      ]
    },
    {
      "cell_type": "code",
      "source": [
        "#ekrana yazı yaz\n",
        "print(\"Merhaba Dünya!\")\n",
        "\n",
        "print(25.2,\"bu bir reel sayı\")"
      ],
      "metadata": {
        "id": "3AMoHS-r06fS",
        "colab": {
          "base_uri": "https://localhost:8080/"
        },
        "outputId": "5a8ccb8a-c864-46a0-83ec-4b93921d23c4"
      },
      "execution_count": null,
      "outputs": [
        {
          "output_type": "stream",
          "name": "stdout",
          "text": [
            "Merhaba Dünya!\n",
            "25.2 bu bir reel sayı\n"
          ]
        }
      ]
    },
    {
      "cell_type": "code",
      "source": [
        "# Repl = read, evaluate, print, loop\n",
        "input_data = input(\"Bir sayı girin: \")\n",
        "processed_data = int(input_data) * 2  # Girilen sayıyı ikiyle çarpıyoruz\n",
        "print(f\"İşlenen verinin sonucu: {processed_data}\")\n"
      ],
      "metadata": {
        "id": "jOWLQPzP1DT8"
      },
      "execution_count": null,
      "outputs": []
    },
    {
      "cell_type": "markdown",
      "source": [
        "# Değişken Tanımlama"
      ],
      "metadata": {
        "id": "owFEQCaewPeX"
      }
    },
    {
      "cell_type": "code",
      "source": [
        "# değişken tanımla\n",
        "sayi = 10         # 'sayi' değişkeni tanımladık ve ona 10 değerini atadık.\n",
        "sayi = 20\n",
        "isim = \"Ali\"      # 'isim' değişkeni tanımladık ve ona \"Ali\" değerini atadık.\n",
        "pi_sayisi = 3.14  # 'pi_sayisi' değişkenine 3.14 atadık.\n",
        "\n",
        "yas = 25         # Bir tamsayı\n",
        "sicaklik = 36.6  # Bir float\n",
        "isim = \"Python\"  # Bir string\n",
        "dogru_mu = True  # Bir boolean\n",
        "sehirler = [\"Ankara\", \"İstanbul\", \"İzmir\"]  # Bir liste\n",
        "sayilar = [1, 2, 3, 4, 5]  # Tamsayılardan oluşan bir liste\n",
        "kisi = {\"isim\": \"Ali\", \"yas\": 25}  # Bir sözlük\n",
        "renkler = (\"kırmızı\", \"mavi\", \"yeşil\")  # Bir demet\n",
        "\n",
        "print(type(sayi))"
      ],
      "metadata": {
        "id": "u7_yJ8Nu1RBr",
        "colab": {
          "base_uri": "https://localhost:8080/"
        },
        "outputId": "e1d5392c-4ca5-4c41-b6d4-88f39df3d983"
      },
      "execution_count": null,
      "outputs": [
        {
          "output_type": "stream",
          "name": "stdout",
          "text": [
            "<class 'int'>\n"
          ]
        }
      ]
    },
    {
      "cell_type": "code",
      "source": [
        "# veri türleri\n",
        "x = 10\n",
        "y = -5\n",
        "z = 0\n",
        "print(type(x))  # <class 'int'>\n",
        "\n",
        "pi = 3.14159\n",
        "agirlik = 70.5\n",
        "print(type(pi))  # <class 'float'>\n",
        "\n",
        "ad = \"Ali\"\n",
        "mesaj = 'Merhaba'\n",
        "print(type(ad))  # <class 'str'>\n",
        "\n",
        "print(ad[0])  # 'A'\n",
        "print(mesaj.upper())  # 'MERHABA' (büyük harf)\n",
        "\n",
        "is_student = True\n",
        "is_teacher = False\n",
        "print(type(is_student))  # <class 'bool'>\n",
        "\n",
        "\n"
      ],
      "metadata": {
        "id": "RQCtAHES1m1r"
      },
      "execution_count": null,
      "outputs": []
    },
    {
      "cell_type": "code",
      "source": [
        "# koleksiyonlar: list, dict\n",
        "meyveler = [\"elma\", \"muz\", \"çilek\"]\n",
        "print(meyveler[1])  # 'muz'\n",
        "meyveler.append(\"portakal\")  # Listeye eleman ekler\n",
        "print(meyveler)  # ['elma', 'muz', 'çilek', 'portakal']\n",
        "\n",
        "ogrenci = {\"ad\": \"Ahmet\", \"yas\": 21, \"bolum\": \"Bilgisayar Mühendisliği\"}\n",
        "print(ogrenci[\"ad\"])  # 'Ahmet'\n",
        "ogrenci[\"yas\"] = 22  # Değeri günceller\n",
        "print(ogrenci)  # {'ad': 'Ahmet', 'yas': 22, 'bolum': 'Bilgisayar Mühendisliği'}\n",
        "\n",
        "koordinatlar = (10, 20)\n",
        "print(koordinatlar[0])  # 10\n",
        "# koordinatlar[0] = 15  # Bu hata verir çünkü demetler değiştirilemez.\n",
        "\n",
        "x = 5       # x bir tamsayı (int)\n",
        "x = 3.14    # x artık bir ondalıklı sayı (float)\n",
        "x = \"merhaba\"  # x artık bir metin (string)\n",
        "print(type(x))  # <class 'str'>"
      ],
      "metadata": {
        "id": "IIUpEK8b0xoM"
      },
      "execution_count": null,
      "outputs": []
    },
    {
      "cell_type": "code",
      "source": [
        "\"\"\"\n",
        "Değişken İsimlendirme Kuralları\n",
        "  Harf veya alt çizgi ile başlamalı.\n",
        "  Harf, rakam veya alt çizgi içerebilir.\n",
        "  Büyük/küçük harfe duyarlıdır.\n",
        "  Python anahtar kelimeleri kullanılamaz.\n",
        "  Anlamlı, açıklayıcı ve okunabilir isimler tercih edilmelidir.\n",
        "\"\"\"\n",
        "\n",
        "\"bu da bir yorum olsun\"\n",
        "\n",
        "'bu da başka bir yorum'\n",
        "\n",
        "# bu normal yorum zaten\n",
        "\n",
        "num = 10       # Geçerli\n",
        "num = 20       # Geçerli\n",
        "num = num + 4\n",
        "num = num * 2\n",
        "\n",
        "\n",
        "_sayi = 20      # Geçerli\n",
        "# 3sayi = 30      # Geçersiz, rakamla başlayamaz\n",
        "\n",
        "if_ = False\n",
        "\n",
        "sayi_1 = 15     # Geçerli\n",
        "ad_soyad = \"Ali\" # Geçerli\n",
        "# ad-soyad = \"Veli\"  # Geçersiz, '-' karakteri kullanılamaz\n",
        "\n",
        "sayi = 10\n",
        "Sayi = 20\n",
        "SAYI = 30\n",
        "print(sayi, Sayi, SAYI)  # Çıktı: 10 20 30\n",
        "\n",
        "# anahtar kelimeler değişken olamaz\n",
        "import keyword\n",
        "print(\"anahtar kelime:\",keyword.kwlist)\n",
        "\n",
        "ortalama_sicaklik = 22.5  # Anlamlı bir değişken adı\n",
        "\n",
        "\n",
        "ogrenci_numarasi = 123  # Snake case\n",
        "\n"
      ],
      "metadata": {
        "colab": {
          "base_uri": "https://localhost:8080/"
        },
        "id": "NETk7gMW2HkU",
        "outputId": "bed73c68-96ef-4605-b1ef-962bd6cf1cb6"
      },
      "execution_count": null,
      "outputs": [
        {
          "output_type": "stream",
          "name": "stdout",
          "text": [
            "10 20 30\n",
            "anahtar kelime: ['False', 'None', 'True', 'and', 'as', 'assert', 'async', 'await', 'break', 'class', 'continue', 'def', 'del', 'elif', 'else', 'except', 'finally', 'for', 'from', 'global', 'if', 'import', 'in', 'is', 'lambda', 'nonlocal', 'not', 'or', 'pass', 'raise', 'return', 'try', 'while', 'with', 'yield']\n"
          ]
        }
      ]
    },
    {
      "cell_type": "markdown",
      "source": [
        "# Operatörler"
      ],
      "metadata": {
        "id": "UOgwH2IPwXUp"
      }
    },
    {
      "cell_type": "code",
      "source": [
        "# atama operatörleri, =, +=, -=, ... diğer aritmetik operatörler\n",
        "\n",
        "x = 10\n",
        "\n",
        "x += 5  # x = x + 5\n",
        "print(x)  # 15\n",
        "x **= 2\n",
        "\"\"\"\n",
        "\"\"\"\n",
        "\n",
        "print(x)"
      ],
      "metadata": {
        "id": "DYIlHhgq2zVd",
        "colab": {
          "base_uri": "https://localhost:8080/"
        },
        "outputId": "8193466b-677b-489a-df4a-89b3c40d25a4"
      },
      "execution_count": null,
      "outputs": [
        {
          "output_type": "stream",
          "name": "stdout",
          "text": [
            "10\n"
          ]
        }
      ]
    },
    {
      "cell_type": "code",
      "source": [
        "# aritmetik operatörler\n",
        "a = 10\n",
        "b = 3\n",
        "print(a + b)  # 13 (toplama)\n",
        "print(a - b)  # 7 (çıkarma)\n",
        "print(a * b)  # 30 (çarpma)\n",
        "print(a / b)  # 3.3333 (bölme)\n",
        "print(a // b) # 3 (tam sayı bölme)\n",
        "print(a % b)  # 1 (modülüs)\n",
        "print(a ** b) # 1000 (üs)\n",
        "\n",
        "x = 1000000\n",
        "x = 10**6\n",
        "x = 1_000_000\n",
        "print(x)\n",
        "\n",
        "with open('output.txt', 'w') as f:\n",
        "  f.write(str(10**80))"
      ],
      "metadata": {
        "id": "LXz6C2Im24lC",
        "colab": {
          "base_uri": "https://localhost:8080/"
        },
        "outputId": "246ee13b-c40e-4ac7-fe3e-6aefb78b824a"
      },
      "execution_count": null,
      "outputs": [
        {
          "output_type": "stream",
          "name": "stdout",
          "text": [
            "13\n",
            "7\n",
            "30\n",
            "3.3333333333333335\n",
            "3\n",
            "1\n",
            "1000\n",
            "1000000\n"
          ]
        }
      ]
    },
    {
      "cell_type": "markdown",
      "source": [
        "**problem**: verilen bir yılın hangi yy'a ait olduğunu bul"
      ],
      "metadata": {
        "id": "y8COAM0O1Y08"
      }
    },
    {
      "cell_type": "code",
      "source": [
        "# problem: verilen bir yılın hangi yy'a ait olduğunu bul\n",
        "# 1701, 18.yy\n",
        "# 1799, 18.yy\n",
        "# 1800, 18.yy\n",
        "# 1700, 17.yy\n",
        "sene = 1705\n",
        "yy = (sene-1)//100 + 1\n",
        "print(yy)"
      ],
      "metadata": {
        "id": "ACEQu8xS1ibQ",
        "colab": {
          "base_uri": "https://localhost:8080/"
        },
        "outputId": "f5c77427-9e7f-4146-8a9b-8dd580261289"
      },
      "execution_count": null,
      "outputs": [
        {
          "output_type": "stream",
          "name": "stdout",
          "text": [
            "18\n"
          ]
        }
      ]
    },
    {
      "cell_type": "code",
      "source": [],
      "metadata": {
        "id": "AdWLDF_d1spY"
      },
      "execution_count": null,
      "outputs": []
    },
    {
      "cell_type": "code",
      "source": [
        "# karşılaştırma operatörleri\n",
        "x = 10\n",
        "y = 5\n",
        "print(x == y)  # False (eşit değil)\n",
        "print(x != y)  # True (eşit değil)\n",
        "print(x > y)   # True (x y'den büyük)\n",
        "print(x <= y)  # False (x y'den küçük değil)\n"
      ],
      "metadata": {
        "id": "8BX0OEKd3Cwi"
      },
      "execution_count": null,
      "outputs": []
    },
    {
      "cell_type": "code",
      "source": [
        "# mantıksal operatörler\n",
        "x = 10\n",
        "y = 5\n",
        "z = 3\n",
        "\n",
        "print(x > y and y > z)  # True (her iki koşul da doğru)\n",
        "print(x > y or z > y)   # True (ilk koşul doğru)\n",
        "print(not (x > y))      # False (x > y doğru olduğu için tersini döner)\n"
      ],
      "metadata": {
        "id": "Y5J7y9ZF3Loi"
      },
      "execution_count": null,
      "outputs": []
    },
    {
      "cell_type": "code",
      "source": [
        "# parantez önceliği\n",
        "# 8/4/2\n",
        "x = 2 + 3 * 4   # Parantez yoksa çarpma önce yapılır\n",
        "print(x)        # Çıktı: 14 (3 * 4 = 12, 2 + 12 = 14)\n",
        "\n",
        "x = (2 + 3) * 4  # Parantez işlemi değiştirir\n",
        "print(x)         # Çıktı: 20 (2 + 3 = 5, 5 * 4 = 20)\n"
      ],
      "metadata": {
        "id": "XeGZwu9W3SwZ"
      },
      "execution_count": null,
      "outputs": []
    },
    {
      "cell_type": "code",
      "source": [
        "# üs alma önceliği\n",
        "x = 2 ** 3 + 1   # Önce üs işlemi yapılır\n",
        "print(x)         # Çıktı: 9 (2 ** 3 = 8, 8 + 1 = 9)\n",
        "\n",
        "x = 2 * 3 ** 2   # Önce üs alınır, sonra çarpma\n",
        "print(x)         # Çıktı: 18 (3 ** 2 = 9, 2 * 9 = 18)\n"
      ],
      "metadata": {
        "id": "WqEiCA7q3XRJ"
      },
      "execution_count": null,
      "outputs": []
    },
    {
      "cell_type": "code",
      "source": [
        "# aritmetik operatörler\n",
        "x = 10 + 3 * 2   # Çarpma önce yapılır\n",
        "print(x)         # Çıktı: 16 (3 * 2 = 6, 10 + 6 = 16)\n",
        "\n",
        "x = 10 / 2 + 3   # Bölme önce yapılır\n",
        "print(x)         # Çıktı: 8.0 (10 / 2 = 5.0, 5.0 + 3 = 8.0)\n"
      ],
      "metadata": {
        "id": "w_fzVYH13bdA"
      },
      "execution_count": null,
      "outputs": []
    },
    {
      "cell_type": "code",
      "source": [
        "# karşılaştırma operatörleri\n",
        "a = 5\n",
        "b = -10\n",
        "s = a+b > a-b\n",
        "print(s)  # False"
      ],
      "metadata": {
        "colab": {
          "base_uri": "https://localhost:8080/"
        },
        "id": "7K1e2ArP3rAp",
        "outputId": "d4c4fc73-dfa0-4d88-b2cb-e1f49c34f2ef"
      },
      "execution_count": null,
      "outputs": [
        {
          "output_type": "stream",
          "name": "stdout",
          "text": [
            "False\n"
          ]
        }
      ]
    },
    {
      "cell_type": "code",
      "source": [
        "# mantıksal operatörler\n",
        "x = True or False and False\n",
        "print(x)   # Çıktı: True (and önce işlenir: False and False = False, sonra or: True or False = True)\n",
        "\n",
        "x = not True or False\n",
        "print(x)   # Çıktı: False (not önce işlenir: not True = False, sonra or: False or False = False)\n"
      ],
      "metadata": {
        "id": "Eet7ybi13-ty"
      },
      "execution_count": null,
      "outputs": []
    },
    {
      "cell_type": "code",
      "source": [
        "# karmaşık bir örnek\n",
        "x = 5 + 2 * 3 ** 2 / 4 - 1\n",
        "# x = 5 + 2 * (3 ** 2) / 4 - 1\n",
        "# x = 5 + (2 * 9) / 4 - 1\n",
        "# x = 5 + 18 / 4 - 1\n",
        "# x = 5 + 3.5 - 1\n",
        "print(x)  # Çıktı: 8.5\n"
      ],
      "metadata": {
        "id": "B9e62zBS4FyA"
      },
      "execution_count": null,
      "outputs": []
    },
    {
      "cell_type": "markdown",
      "source": [
        "# Koleksiyonlar"
      ],
      "metadata": {
        "id": "4KG8jHtrwlqs"
      }
    },
    {
      "cell_type": "markdown",
      "source": [
        "## list"
      ],
      "metadata": {
        "id": "UqBvu9YqD591"
      }
    },
    {
      "cell_type": "code",
      "source": [
        "# listeler\n",
        "# Liste oluşturma\n",
        "\"\"\"\n",
        "\"\"\"\n",
        "liste = [1, 2, 3, \"Ali\", True]\n",
        "liste = []\n",
        "liste = list()\n",
        "liste = [\"edanur\",\"damla\",\"esma\",\"umit\",\"Berk\",'ihsan',\"sümeyye\",\"emre\",\"ertuğrul\",\"Muhammed\",\"beytullah\",'yusuf',\"erdem\"]\n",
        "\n",
        "print(liste)\n",
        "\n",
        "\n",
        "isim = input(\"İsim:\")\n",
        "liste.append(isim)\n",
        "print(liste)\n",
        "\n",
        "liste.remove(\"Muhammed\")\n",
        "print(liste)\n",
        "\n",
        "del liste[0]\n",
        "print(liste)\n",
        "\n",
        "#-----------------------------------------------------\n",
        "\n",
        "\"\"\"\n",
        "# Boş liste oluşturma\n",
        "bos_liste = []\n",
        "bos_liste = list()  # Alternatif\n",
        "\n",
        "# Listeye eleman ekleme\n",
        "liste.append(4)\n",
        "print(liste)  # Çıktı: [1, 2, 3, 'Ali', True, 4]\n",
        "\n",
        "# Belirli bir indeksteki elemanı değiştirme\n",
        "liste[1] = \"Yeni\"\n",
        "print(liste)  # Çıktı: [1, 'Yeni', 3, 'Ali', True, 4]\n",
        "\n",
        "# Listeden eleman silme\n",
        "liste.remove(\"Ali\")\n",
        "print(liste)  # Çıktı: [1, 'Yeni', 3, True, 4]\n",
        "\n",
        "# Listeden belirli bir indeks ile eleman silme\n",
        "del liste[0]\n",
        "print(liste)  # Çıktı: ['Yeni', 3, True, 4]\n",
        "\"\"\"\n"
      ],
      "metadata": {
        "id": "8nndFHKo5jki",
        "colab": {
          "base_uri": "https://localhost:8080/",
          "height": 217
        },
        "outputId": "e5570b8e-1ec3-413a-e9aa-8aa021c9f371"
      },
      "execution_count": null,
      "outputs": [
        {
          "output_type": "stream",
          "name": "stdout",
          "text": [
            "['edanur', 'damla', 'esma', 'umit', 'Berk', 'ihsan', 'sümeyye', 'emre', 'ertuğrul', 'Muhammed', 'beytullah', 'yusuf', 'erdem']\n",
            "İsim:zafer\n",
            "['edanur', 'damla', 'esma', 'umit', 'Berk', 'ihsan', 'sümeyye', 'emre', 'ertuğrul', 'Muhammed', 'beytullah', 'yusuf', 'erdem', 'zafer']\n",
            "['edanur', 'damla', 'esma', 'umit', 'Berk', 'ihsan', 'sümeyye', 'emre', 'ertuğrul', 'beytullah', 'yusuf', 'erdem', 'zafer']\n",
            "['damla', 'esma', 'umit', 'Berk', 'ihsan', 'sümeyye', 'emre', 'ertuğrul', 'beytullah', 'yusuf', 'erdem', 'zafer']\n"
          ]
        },
        {
          "output_type": "execute_result",
          "data": {
            "text/plain": [
              "'\\n# Boş liste oluşturma\\nbos_liste = []\\nbos_liste = list()  # Alternatif\\n\\n# Listeye eleman ekleme\\nliste.append(4)\\nprint(liste)  # Çıktı: [1, 2, 3, \\'Ali\\', True, 4]\\n\\n# Belirli bir indeksteki elemanı değiştirme\\nliste[1] = \"Yeni\"\\nprint(liste)  # Çıktı: [1, \\'Yeni\\', 3, \\'Ali\\', True, 4]\\n\\n# Listeden eleman silme\\nliste.remove(\"Ali\")\\nprint(liste)  # Çıktı: [1, \\'Yeni\\', 3, True, 4]\\n\\n# Listeden belirli bir indeks ile eleman silme\\ndel liste[0]\\nprint(liste)  # Çıktı: [\\'Yeni\\', 3, True, 4]\\n'"
            ],
            "application/vnd.google.colaboratory.intrinsic+json": {
              "type": "string"
            }
          },
          "metadata": {},
          "execution_count": 12
        }
      ]
    },
    {
      "cell_type": "code",
      "source": [
        "\"\"\"\n",
        "En Çok Kullanılan Metodlar:\n",
        "append(x): Liste sonuna eleman ekler.\n",
        "remove(x): Listeden ilk görülen x değerini siler.\n",
        "pop([index]): Belirtilen indeksin elemanını siler ve döner. İndeks verilmezse son elemanı döner.\n",
        "sort(): Listeyi sıralar (sadece aynı veri türü için).\n",
        "reverse(): Listeyi ters çevirir.\n",
        "len(): Listenin uzunluğunu döner.\n",
        "\"\"\""
      ],
      "metadata": {
        "id": "hQy0P34H5vzH"
      },
      "execution_count": null,
      "outputs": []
    },
    {
      "cell_type": "code",
      "source": [
        "# append\n",
        "my_list = [1, 2, 3]\n",
        "my_list.append(4)  # Listeye 4 ekler\n",
        "print(my_list)\n",
        "# Çıktı: [1, 2, 3, 4]\n"
      ],
      "metadata": {
        "id": "cEoIgDI0A99h"
      },
      "execution_count": null,
      "outputs": []
    },
    {
      "cell_type": "code",
      "source": [
        "# remove\n",
        "my_list = [1, 2, 3, 2]\n",
        "my_list.remove(2)  # Listeden ilk bulduğu 2 değerini siler\n",
        "print(my_list)\n",
        "# Çıktı: [1, 3, 2]\n"
      ],
      "metadata": {
        "id": "gb_fjIBlBAYv"
      },
      "execution_count": null,
      "outputs": []
    },
    {
      "cell_type": "code",
      "source": [
        "# pop\n",
        "my_list = [1, 2, 3]\n",
        "removed_element = my_list.pop()  # Son elemanı (3) çıkarır ve döndürür\n",
        "print(my_list)\n",
        "print(removed_element)\n",
        "# Çıktı: [1, 2]\n",
        "# Çıktı: 3\n"
      ],
      "metadata": {
        "id": "QTQ72KlMBHBg"
      },
      "execution_count": null,
      "outputs": []
    },
    {
      "cell_type": "code",
      "source": [
        "# sort\n",
        "my_list = [3, 1, 4, 2]\n",
        "my_list.sort()  # Listeyi sıralar\n",
        "# my_list = sorted(my_list) # alternatif\n",
        "print(my_list)\n",
        "# Çıktı: [1, 2, 3, 4]\n"
      ],
      "metadata": {
        "colab": {
          "base_uri": "https://localhost:8080/",
          "height": 216
        },
        "id": "rAD7xBaoBNH4",
        "outputId": "e1594ea6-2c20-4d66-b021-84261d3c3e6c"
      },
      "execution_count": null,
      "outputs": [
        {
          "output_type": "error",
          "ename": "AttributeError",
          "evalue": "'NoneType' object has no attribute 'reverse'",
          "traceback": [
            "\u001b[0;31m---------------------------------------------------------------------------\u001b[0m",
            "\u001b[0;31mAttributeError\u001b[0m                            Traceback (most recent call last)",
            "\u001b[0;32m<ipython-input-14-b48f44a84388>\u001b[0m in \u001b[0;36m<cell line: 3>\u001b[0;34m()\u001b[0m\n\u001b[1;32m      1\u001b[0m \u001b[0;31m# sort\u001b[0m\u001b[0;34m\u001b[0m\u001b[0;34m\u001b[0m\u001b[0m\n\u001b[1;32m      2\u001b[0m \u001b[0mmy_list\u001b[0m \u001b[0;34m=\u001b[0m \u001b[0;34m[\u001b[0m\u001b[0;36m3\u001b[0m\u001b[0;34m,\u001b[0m \u001b[0;36m1\u001b[0m\u001b[0;34m,\u001b[0m \u001b[0;36m4\u001b[0m\u001b[0;34m,\u001b[0m \u001b[0;36m2\u001b[0m\u001b[0;34m]\u001b[0m\u001b[0;34m\u001b[0m\u001b[0;34m\u001b[0m\u001b[0m\n\u001b[0;32m----> 3\u001b[0;31m \u001b[0mmy_list\u001b[0m\u001b[0;34m.\u001b[0m\u001b[0msort\u001b[0m\u001b[0;34m(\u001b[0m\u001b[0;34m)\u001b[0m\u001b[0;34m.\u001b[0m\u001b[0mreverse\u001b[0m\u001b[0;34m(\u001b[0m\u001b[0;34m)\u001b[0m  \u001b[0;31m# Listeyi sıralar\u001b[0m\u001b[0;34m\u001b[0m\u001b[0;34m\u001b[0m\u001b[0m\n\u001b[0m\u001b[1;32m      4\u001b[0m \u001b[0;31m# my_list = sorted(my_list) # alternatif\u001b[0m\u001b[0;34m\u001b[0m\u001b[0;34m\u001b[0m\u001b[0m\n\u001b[1;32m      5\u001b[0m \u001b[0mprint\u001b[0m\u001b[0;34m(\u001b[0m\u001b[0mmy_list\u001b[0m\u001b[0;34m)\u001b[0m\u001b[0;34m\u001b[0m\u001b[0;34m\u001b[0m\u001b[0m\n",
            "\u001b[0;31mAttributeError\u001b[0m: 'NoneType' object has no attribute 'reverse'"
          ]
        }
      ]
    },
    {
      "cell_type": "code",
      "source": [
        "# reverse\n",
        "my_list = [1, 2, 3]\n",
        "print(my_list[::-1])\n",
        "my_list.reverse()  # Listeyi ters çevirir\n",
        "print(my_list)\n",
        "# Çıktı: [3, 2, 1]\n"
      ],
      "metadata": {
        "colab": {
          "base_uri": "https://localhost:8080/"
        },
        "id": "hUh-g7k4BWGL",
        "outputId": "1a622009-1478-4909-f198-3bada05d6909"
      },
      "execution_count": null,
      "outputs": [
        {
          "output_type": "stream",
          "name": "stdout",
          "text": [
            "[3, 2, 1]\n",
            "[3, 2, 1]\n"
          ]
        }
      ]
    },
    {
      "cell_type": "code",
      "source": [
        "liste = [\n",
        "    \"Betül\",\n",
        "    \"ahmet\",\n",
        "    \"elif\",\n",
        "    \"Betzl\"\n",
        "    ]\n",
        "liste.sort()\n",
        "print(liste)"
      ],
      "metadata": {
        "colab": {
          "base_uri": "https://localhost:8080/"
        },
        "id": "IDC-CBnXGW89",
        "outputId": "365bde8e-b58c-4207-cd2a-99be0fac46c0"
      },
      "execution_count": null,
      "outputs": [
        {
          "output_type": "stream",
          "name": "stdout",
          "text": [
            "['Betzl', 'Betül', 'ahmet', 'elif']\n"
          ]
        }
      ]
    },
    {
      "cell_type": "code",
      "source": [
        "# len\n",
        "my_list = [1, 2, 3, 4]\n",
        "list_length = len(my_list)  # Listenin uzunluğunu döner\n",
        "print(list_length)\n",
        "# Çıktı: 4\n"
      ],
      "metadata": {
        "id": "HZtT7n10B7T3"
      },
      "execution_count": null,
      "outputs": []
    },
    {
      "cell_type": "code",
      "source": [
        "liste = [\n",
        "    [\"esma\",2],\n",
        "    [\"damla\",0],\n",
        "    [\"berk\",1]\n",
        "]\n",
        "\n",
        "plaka = [\n",
        "    [\"Artvin\"],      # 0\n",
        "    [\"Eskişehir\"],\n",
        "    [\"Bingöl\"]\n",
        "]\n",
        "print(\"esma\",plaka[liste[0][1]])  # plaka[liste[0][1]]\n",
        "print(\"berk\",plaka[liste[2][1]])  # plaka[liste[0][1]]"
      ],
      "metadata": {
        "colab": {
          "base_uri": "https://localhost:8080/"
        },
        "id": "Ido66z0xJIzi",
        "outputId": "120f2ac0-8381-477b-847d-34ecbb4dc34c"
      },
      "execution_count": null,
      "outputs": [
        {
          "output_type": "stream",
          "name": "stdout",
          "text": [
            "esma ['Bingöl']\n",
            "berk ['Eskişehir']\n"
          ]
        }
      ]
    },
    {
      "cell_type": "markdown",
      "source": [
        "## Tuple"
      ],
      "metadata": {
        "id": "3NU-iaXaD24z"
      }
    },
    {
      "cell_type": "code",
      "source": [
        "# demet, tuple\n",
        "# Demet oluşturma\n",
        "demet = (1, 2, 3, \"Ali\", True)\n",
        "\n",
        "# Elemanlara erişim\n",
        "print(demet[0])  # Çıktı: 1\n",
        "print(demet[-1])  # Çıktı: True\n",
        "\n",
        "# Değiştirilemezlik (aşağıdaki satır hata verecektir)\n",
        "# demet[1] = \"Yeni\"  # TypeError: 'tuple' object does not support item assignment\n"
      ],
      "metadata": {
        "id": "sO_BlrEA52ZA"
      },
      "execution_count": null,
      "outputs": []
    },
    {
      "cell_type": "code",
      "source": [
        "\"\"\"\n",
        "En Çok Kullanılan Metodlar:\n",
        "tp.count(x): Demetteki x sayısını döner.\n",
        "tp.index(x): x değerinin demetteki indeksini döner.\n",
        "len(): Demetin uzunluğunu döner.\n",
        "\"\"\""
      ],
      "metadata": {
        "id": "Y8WpPqB86B8I"
      },
      "execution_count": null,
      "outputs": []
    },
    {
      "cell_type": "markdown",
      "source": [
        "## Dict"
      ],
      "metadata": {
        "id": "fNfFHQl3Dzpr"
      }
    },
    {
      "cell_type": "code",
      "source": [
        "# sözlük veriyapısı\n",
        "\n",
        "ad = \"Ali\"\n",
        "yas = 25\n",
        "meslek = \"Mühendis\"\n",
        "\n",
        "# Sözlük oluşturma\n",
        "sozluk = {\"ad\": \"Ali\", \"yas\": 25, \"meslek\": \"Mühendis\"}\n",
        "\n",
        "berk = {\"ad\":\"berk\",\"il\":\"Eskişehir\",\"plaka\":26}\n",
        "erdem = {\"ad\":\"erdem\",\"il\":\"Zonguldak\",\"plaka\":67}\n",
        "muhammed = {\"ad\":\"muhammed\",\"il\":\"Bursa\",\"plaka\":16}\n",
        "\n",
        "liste = [berk,erdem,muhammed]\n",
        "\n",
        "print(liste[0])\n",
        "\n",
        "# Elemanlara erişim\n",
        "print(muhammed[\"ad\"])\n",
        "print(muhammed.get(\"il\"))\n",
        "\n",
        "\n",
        "berk[\"il\"] = \"Ankara\"\n",
        "berk[\"bölüm\"] = \"Bilgisayar Mühendisliği\"\n",
        "print(berk)\n"
      ],
      "metadata": {
        "colab": {
          "base_uri": "https://localhost:8080/"
        },
        "id": "qEb3BMX5CT45",
        "outputId": "725f90d3-d9a6-40f3-d227-4d28307bde0a"
      },
      "execution_count": null,
      "outputs": [
        {
          "output_type": "stream",
          "name": "stdout",
          "text": [
            "{'ad': 'berk', 'il': 'Eskişehir', 'plaka': 26}\n",
            "muhammed\n",
            "Bursa\n",
            "{'ad': 'berk', 'il': 'Ankara', 'plaka': 26, 'bölüm': 'Bilgisayar Mühendisliği'}\n"
          ]
        }
      ]
    },
    {
      "cell_type": "code",
      "source": [
        "# formatlı çıktı\n",
        "x = 5\n",
        "y = 10\n",
        "print(\"İşlem şu =>\",x,\"+\",y,\"=\",x+y)\n",
        "print(f\"İşlem şu => {x}+{y}={x+y}\")"
      ],
      "metadata": {
        "colab": {
          "base_uri": "https://localhost:8080/"
        },
        "id": "yAs5N0VLefTR",
        "outputId": "792342e2-18b6-43f4-80c4-c5129f07d537"
      },
      "execution_count": null,
      "outputs": [
        {
          "output_type": "stream",
          "name": "stdout",
          "text": [
            "İşlem şu => 5 + 10 = 15\n",
            "İşlem şu => 5+10=15\n"
          ]
        }
      ]
    },
    {
      "cell_type": "code",
      "source": [
        "# Sözlük oluşturma\n",
        "my_dict = {\n",
        "    \"isim\": \"Ahmet\",\n",
        "    \"yaş\": 25,\n",
        "    \"şehir\": \"İstanbul\"\n",
        "}\n",
        "\n",
        "# 1. 'get()' Metodu: Anahtar ile değeri döner. Anahtar yoksa None döner (veya varsayılan bir değer belirtilebilir).\n",
        "age = my_dict.get(\"yaş\")\n",
        "print(f\"Yaş: {age}\")  # Çıktı: Yaş: 25\n",
        "print(\"Yaş:\",age)  # Çıktı: Yaş: 25\n",
        "\n",
        "# 2. 'keys()' Metodu: Sözlükteki tüm anahtarları döner.\n",
        "keys = my_dict.keys()\n",
        "print(f\"Anahtarlar: {keys}\")  # Çıktı: Anahtarlar: dict_keys(['isim', 'yaş', 'şehir'])\n",
        "\n",
        "# 3. 'values()' Metodu: Sözlükteki tüm değerleri döner.\n",
        "values = my_dict.values()\n",
        "print(f\"Değerler: {values}\")  # Çıktı: Değerler: dict_values(['Ahmet', 25, 'İstanbul'])\n",
        "\n",
        "# 4. 'items()' Metodu: Sözlükteki her anahtar-değer çiftini döner (tuple formatında).\n",
        "items = my_dict.items()\n",
        "print(f\"Anahtar-Değer Çiftleri: {items}\")\n",
        "# Çıktı: Anahtar-Değer Çiftleri: dict_items([('isim', 'Ahmet'), ('yaş', 25), ('şehir', 'İstanbul')])\n",
        "\n",
        "# 5. 'update()' Metodu: Sözlüğe yeni bir anahtar-değer çifti ekler veya mevcut anahtarı günceller.\n",
        "my_dict.update({\"meslek\": \"Mühendis\"})\n",
        "my_dict[\"meslek\"] = \"Mühendis\"\n",
        "print(f\"Güncellenmiş Sözlük: {my_dict}\")\n",
        "# Çıktı: Güncellenmiş Sözlük: {'isim': 'Ahmet', 'yaş': 25, 'şehir': 'İstanbul', 'meslek': 'Mühendis'}\n",
        "\n",
        "# 6. 'pop()' Metodu: Belirtilen anahtarı ve değerini sözlükten çıkarır ve değeri döner.\n",
        "popped_value = my_dict.pop(\"şehir\")\n",
        "print(f\"Çıkarılan Değer: {popped_value}\")  # Çıktı: Çıkarılan Değer: İstanbul\n",
        "print(f\"Güncellenmiş Sözlük: {my_dict}\")\n",
        "# Çıktı: Güncellenmiş Sözlük: {'isim': 'Ahmet', 'yaş': 25, 'meslek': 'Mühendis'}\n",
        "\n",
        "# 7. 'clear()' Metodu: Sözlükteki tüm anahtar-değer çiftlerini siler.\n",
        "my_dict.clear()\n",
        "print(f\"Boş Sözlük: {my_dict}\")  # Çıktı: Boş Sözlük: {}\n"
      ],
      "metadata": {
        "id": "KcgvYMnuCbHF"
      },
      "execution_count": null,
      "outputs": []
    },
    {
      "cell_type": "code",
      "source": [
        "# get\n",
        "my_dict = {\"isim\": \"Ahmet\", \"yaş\": 25}\n",
        "\n",
        "# 'get()' metodu ile \"yaş\" anahtarına karşılık gelen değeri alıyoruz\n",
        "age = my_dict.get(\"yaş\")\n",
        "print(age)  # Çıktı: 25\n",
        "\n",
        "# Anahtar mevcut değilse 'None' döner\n",
        "job = my_dict.get(\"meslek\")\n",
        "print(job)  # Çıktı: None\n",
        "\n",
        "# Anahtar yoksa varsayılan bir değer döndürme\n",
        "job = my_dict.get(\"meslek\", \"Belirtilmedi\")\n",
        "print(job)  # Çıktı: Belirtilmedi\n"
      ],
      "metadata": {
        "id": "fgDXWwnLC11H"
      },
      "execution_count": null,
      "outputs": []
    },
    {
      "cell_type": "code",
      "source": [
        "my_dict = {\"isim\": \"Ahmet\", \"yaş\": 25, \"şehir\": \"İstanbul\"}\n",
        "\n",
        "# 'keys()' metodu ile tüm anahtarları alıyoruz\n",
        "keys = my_dict.keys()\n",
        "print(keys)  # Çıktı: dict_keys(['isim', 'yaş', 'şehir'])\n"
      ],
      "metadata": {
        "id": "fv8oW029C5_m"
      },
      "execution_count": null,
      "outputs": []
    },
    {
      "cell_type": "code",
      "source": [
        "my_dict = {\"isim\": \"Ahmet\", \"yaş\": 25, \"şehir\": \"İstanbul\"}\n",
        "\n",
        "# 'values()' metodu ile tüm değerleri alıyoruz\n",
        "values = my_dict.values()\n",
        "print(values)  # Çıktı: dict_values(['Ahmet', 25, 'İstanbul'])\n"
      ],
      "metadata": {
        "id": "osMfmlG8DAtt"
      },
      "execution_count": null,
      "outputs": []
    },
    {
      "cell_type": "code",
      "source": [
        "my_dict = {\"isim\": \"Ahmet\", \"yaş\": 25, \"şehir\": \"İstanbul\"}\n",
        "\n",
        "# 'items()' metodu ile tüm anahtar-değer çiftlerini alıyoruz\n",
        "items = my_dict.items()\n",
        "print(items)  # Çıktı: dict_items([('isim', 'Ahmet'), ('yaş', 25), ('şehir', 'İstanbul')])\n"
      ],
      "metadata": {
        "id": "mOe-wKERDENf"
      },
      "execution_count": null,
      "outputs": []
    },
    {
      "cell_type": "code",
      "source": [
        "my_dict = {\"isim\": \"Ahmet\", \"yaş\": 25}\n",
        "\n",
        "# Yeni bir anahtar-değer çifti eklemek\n",
        "my_dict.update({\"şehir\": \"İstanbul\"})\n",
        "print(my_dict)  # Çıktı: {'isim': 'Ahmet', 'yaş': 25, 'şehir': 'İstanbul'}\n",
        "\n",
        "# Var olan bir anahtarın değerini güncellemek\n",
        "my_dict.update({\"yaş\": 26})\n",
        "print(my_dict)  # Çıktı: {'isim': 'Ahmet', 'yaş': 26, 'şehir': 'İstanbul'}\n"
      ],
      "metadata": {
        "id": "dG3tKak7DMLs"
      },
      "execution_count": null,
      "outputs": []
    },
    {
      "cell_type": "code",
      "source": [
        "my_dict = {\"isim\": \"Ahmet\", \"yaş\": 25, \"şehir\": \"İstanbul\"}\n",
        "\n",
        "# 'pop()' metodu ile \"yaş\" anahtarını çıkarıyoruz\n",
        "age = my_dict.pop(\"yaş\")\n",
        "print(age)  # Çıktı: 25\n",
        "print(my_dict)  # Çıktı: {'isim': 'Ahmet', 'şehir': 'İstanbul'}\n"
      ],
      "metadata": {
        "id": "9G3832G2DM_W"
      },
      "execution_count": null,
      "outputs": []
    },
    {
      "cell_type": "code",
      "source": [
        "my_dict = {\"isim\": \"Ahmet\", \"yaş\": 25, \"şehir\": \"İstanbul\"}\n",
        "\n",
        "# 'clear()' metodu ile sözlüğü tamamen temizliyoruz\n",
        "my_dict.clear()\n",
        "print(my_dict)  # Çıktı: {}\n"
      ],
      "metadata": {
        "id": "kX3OUhsdDQOV"
      },
      "execution_count": null,
      "outputs": []
    },
    {
      "cell_type": "code",
      "source": [
        "cocuklar = [\n",
        "    {\n",
        "        \"isim\": \"Ahmet\",\n",
        "        \"yaş\": 9,\n",
        "        \"meslek\": \"Öğrenci\",\n",
        "        \"Sınıf\":\"4D\"\n",
        "    },\n",
        "    {\n",
        "        \"isim\": \"Betül\",\n",
        "        \"yaş\": 11,\n",
        "        \"meslek\": \"Öğrenci\",\n",
        "        \"Sınıf\":\"6D\"\n",
        "    },\n",
        "    {\n",
        "        \"isim\": \"Elif\",\n",
        "        \"yaş\": 14,\n",
        "        \"meslek\": \"Öğrenci\",\n",
        "        \"Sınıf\":\"9E\"\n",
        "    }\n",
        "]\n",
        "\n",
        "print(cocuklar[0][\"isim\"])"
      ],
      "metadata": {
        "colab": {
          "base_uri": "https://localhost:8080/"
        },
        "id": "rr4eWqlLfsbd",
        "outputId": "72df02cb-329b-42bb-b497-bb4802346eb8"
      },
      "execution_count": null,
      "outputs": [
        {
          "output_type": "stream",
          "name": "stdout",
          "text": [
            "Ahmet\n"
          ]
        }
      ]
    },
    {
      "cell_type": "code",
      "source": [
        "sehirler = {\n",
        "    \"Adana\": [\"Aladağ\", \"Ceyhan\", \"Çukurova\", \"Feke\", \"İmamoğlu\", \"Karaisalı\", \"Karataş\", \"Kozan\", \"Pozantı\", \"Saimbeyli\", \"Sarıçam\", \"Seyhan\", \"Tufanbeyli\", \"Yumurtalık\", \"Yüreğir\"],\n",
        "\n",
        "    \"Adıyaman\": [\"Adıyaman\", \"Besni\", \"Çelikhan\", \"Gerger\", \"Gölbaşı\", \"Kâhta\", \"Samsat\", \"Sincik\", \"Tut\"],\n",
        "\n",
        "    \"Afyonkarahisar\": [\"Afyonkarahisar\", \"Başmakçı\", \"Bayat\", \"Bolvadin\", \"Çay\", \"Çobanlar\", \"Dazkırı\", \"Dinar\",\n",
        "                       \"Emirdağ\", \"Evciler\", \"Hocalar\", \"İhsaniye\", \"İscehisar\", \"Kızılören\", \"Sandıklı\", \"Sinanpaşa\",\n",
        "                       \"Sultandağı\", \"Şuhut\"],\n",
        "\n",
        "    \"Ağrı\": [\"Ağrı\", \"Diyadin\", \"Doğubayazıt\", \"Eleşkirt\", \"Hamur\", \"Patnos\", \"Taşlıçay\", \"Tutak\"],\n",
        "\n",
        "    \"Aksaray\": [\"Ağaçören\", \"Aksaray\", \"Eskil\", \"Gülağaç\", \"Güzelyurt\", \"Ortaköy\", \"Sarıyahşi\"],\n",
        "\n",
        "    \"Amasya\": [\"Amasya\", \"Göynücek\", \"Gümüşhacıköy\", \"Hamamözü\", \"Merzifon\", \"Suluova\", \"Taşova\"],\n",
        "\n",
        "    \"Ankara\": [\"Akyurt\", \"Altındağ\", \"Ayaş\", \"Balâ\", \"Beypazarı\", \"Çamlıdere\", \"Çankaya\", \"Çubuk\", \"Elmadağ\",\n",
        "               \"Etimesgut\", \"Evren\", \"Gölbaşı\", \"Güdül\", \"Haymana\", \"Kalecik\", \"Kahramankazan\", \"Keçiören\",\n",
        "               \"Kızılcahamam\", \"Mamak\", \"Nallıhan\", \"Polatlı\", \"Pursaklar\", \"Sincan\", \"Şereflikoçhisar\", \"Yenimahalle\"],\n",
        "\n",
        "    \"Antalya\": [\"Akseki\", \"Aksu\", \"Alanya\", \"Döşemealtı\", \"Elmalı\", \"Finike\", \"Gazipaşa\", \"Gündoğmuş\", \"İbradı\",\n",
        "                \"Demre\", \"Kaş\", \"Kemer\", \"Kepez\", \"Konyaaltı\", \"Korkuteli\", \"Kumluca\", \"Manavgat\", \"Muratpaşa\",\n",
        "                \"Serik\"],\n",
        "\n",
        "    \"Ardahan\": [\"Ardahan\", \"Çıldır\", \"Damal\", \"Göle\", \"Hanak\", \"Posof\"],\n",
        "\n",
        "    \"Artvin\": [\"Ardanuç\", \"Arhavi\", \"Artvin\", \"Borçka\", \"Hopa\", \"Murgul\", \"Şavşat\", \"Yusufeli\"],\n",
        "\n",
        "    \"Aydın\": [\"Bozdoğan\", \"Buharkent\", \"Çine\", \"Didim\", \"Efeler\", \"Germencik\", \"İncirliova\", \"Karacasu\", \"Karpuzlu\",\n",
        "              \"Koçarlı\", \"Köşk\", \"Kuşadası\", \"Kuyucak\", \"Nazilli\", \"Söke\", \"Sultanhisar\", \"Yenipazar\"],\n",
        "\n",
        "    \"Balıkesir\": [\"Altıeylül\", \"Ayvalık\", \"Balya\", \"Bandırma\", \"Bigadiç\", \"Burhaniye\", \"Dursunbey\", \"Edremit\", \"Erdek\",\n",
        "                  \"Gömeç\", \"Gönen\", \"Havran\", \"İvrindi\", \"Karesi\", \"Kepsut\", \"Manyas\", \"Marmara\", \"Savaştepe\",\n",
        "                  \"Sındırgı\", \"Susurluk\"],\n",
        "\n",
        "    \"Bartın\": [\"Amasra\", \"Bartın\", \"Kurucaşile\", \"Ulus\"],\n",
        "\n",
        "    \"Batman\": [\"Batman\", \"Beşiri\", \"Gercüş\", \"Hasankeyf\", \"Kozluk\", \"Sason\"],\n",
        "\n",
        "    \"Bayburt\": [\"Aydıntepe\", \"Bayburt (İl merkezi\", \"Demirözü\"],\n",
        "\n",
        "    \"Bilecik\": [\"Bilecik\", \"Bozüyük\", \"Gölpazarı\", \"İnhisar\", \"Osmaneli\", \"Pazaryeri\", \"Söğüt\", \"Yenipazar\"],\n",
        "\n",
        "    \"Bingöl\": [\"Adaklı\", \"Bingöl\", \"Genç\", \"Karlıova\", \"Kiğı\", \"Solhan\", \"Yayladere\", \"Yedisu\"],\n",
        "\n",
        "    \"Bitlis\": [\"Adilcevaz\", \"Ahlat\", \"Bitlis\", \"Güroymak\", \"Hizan\", \"Mutki\", \"Tatvan\"],\n",
        "\n",
        "    \"Bolu\": [\"Bolu\", \"Dörtdivan\", \"Gerede\", \"Göynük\", \"Kıbrıscık\", \"Mengen\", \"Mudurnu\", \"Seben\", \"Yeniçağa\"],\n",
        "\n",
        "    \"Burdur\": [\"Ağlasun\", \"Altınyayla\", \"Bucak\", \"Burdur\", \"Çavdır\", \"Çeltikçi\", \"Gölhisar\", \"Karamanlı\", \"Kemer\",\n",
        "               \"Tefenni\", \"Yeşilova\"],\n",
        "\n",
        "    \"Bursa\": [\"Büyükorhan\", \"Gemlik\", \"Gürsu\", \"Harmancık\", \"İnegöl\", \"İznik\", \"Karacabey\", \"Keles\", \"Kestel\",\n",
        "              \"Mudanya\", \"Mustafakemalpaşa\", \"Nilüfer\", \"Orhaneli\", \"Orhangazi\", \"Osmangazi\", \"Yenişehir\", \"Yıldırım\"],\n",
        "\n",
        "    \"Çanakkale\": [\"Ayvacık\", \"Bayramiç\", \"Biga\", \"Bozcaada\", \"Çan\", \"Çanakkale\", \"Eceabat\", \"Ezine\", \"Gelibolu\",\n",
        "                  \"Gökçeada\", \"Lapseki\", \"Yenice\"],\n",
        "\n",
        "    \"Çankırı\": [\"Atkaracalar\", \"Bayramören\", \"Çankırı\", \"Çerkeş\", \"Eldivan\", \"Ilgaz\", \"Kızılırmak\", \"Korgun\",\n",
        "                \"Kurşunlu\", \"Orta\", \"Şabanözü\", \"Yapraklı\"],\n",
        "\n",
        "    \"Çorum\": [\"Alaca\", \"Bayat\", \"Boğazkale\", \"Çorum\", \"Dodurga\", \"İskilip\", \"Kargı\", \"Laçin\", \"Mecitözü\", \"Oğuzlar\",\n",
        "              \"Ortaköy\", \"Osmancık\", \"Sungurlu\", \"Uğurludağ\"],\n",
        "\n",
        "    \"Denizli\": [\"Acıpayam\", \"Babadağ\", \"Baklan\", \"Bekilli\", \"Beyağaç\", \"Bozkurt\", \"Buldan\", \"Çal\", \"Çameli\", \"Çardak\",\n",
        "                \"Çivril\", \"Güney\", \"Honaz\", \"Kale\", \"Merkezefendi\", \"Pamukkale\", \"Sarayköy\", \"Serinhisar\", \"Tavas\"],\n",
        "\n",
        "    \"Diyarbakır\": [\"Bağlar\", \"Bismil\", \"Çermik\", \"Çınar\", \"Çüngüş\", \"Dicle\", \"Eğil\", \"Ergani\", \"Hani\", \"Hazro\",\n",
        "                   \"Kayapınar\", \"Kocaköy\", \"Kulp\", \"Lice\", \"Silvan\", \"Sur\", \"Yenişehir\"],\n",
        "\n",
        "    \"Düzce\": [\"Akçakoca\", \"Cumayeri\", \"Çilimli\", \"Düzce\", \"Gölyaka\", \"Gümüşova\", \"Kaynaşlı\", \"Yığılca\"],\n",
        "\n",
        "    \"Edirne\": [\"Enez\", \"Havsa\", \"İpsala\", \"Keşan\", \"Lalapaşa\", \"Meriç\", \"Merkez\", \"Süloğlu\", \"Uzunköprü\"],\n",
        "\n",
        "    \"Elâzığ\": [\"Ağın\", \"Alacakaya\", \"Arıcak\", \"Baskil\", \"Elâzığ\", \"Karakoçan\", \"Keban\", \"Kovancılar\", \"Maden\", \"Palu\",\n",
        "               \"Sivrice\"],\n",
        "\n",
        "    \"Erzincan\": [\"Çayırlı\", \"Erzincan\", \"İliç\", \"Kemah\", \"Kemaliye\", \"Otlukbeli\", \"Refahiye\", \"Tercan\", \"Üzümlü\"],\n",
        "\n",
        "    \"Erzurum\": [\"Aşkale\", \"Aziziye\", \"Çat\", \"Hınıs\", \"Horasan\", \"İspir\", \"Karaçoban\", \"Karayazı\", \"Köprüköy\", \"Narman\",\n",
        "                \"Oltu\", \"Olur\", \"Palandöken\", \"Pasinler\", \"Pazaryolu\", \"Şenkaya\", \"Tekman\", \"Tortum\", \"Uzundere\",\n",
        "                \"Yakutiye\"],\n",
        "\n",
        "    \"Eskişehir\": [\"Alpu\", \"Beylikova\", \"Çifteler\", \"Günyüzü\", \"Han\", \"İnönü\", \"Mahmudiye\", \"Mihalgazi\", \"Mihalıççık\",\n",
        "                  \"Odunpazarı\", \"Sarıcakaya\", \"Seyitgazi\", \"Sivrihisar\", \"Tepebaşı\"],\n",
        "\n",
        "    \"Gaziantep\": [\"Araban\", \"İslahiye\", \"Karkamış\", \"Nizip\", \"Nurdağı\", \"Oğuzeli\", \"Şahinbey\", \"Şehitkâmil\",\n",
        "                  \"Yavuzeli\"],\n",
        "\n",
        "    \"Giresun\": [\"Alucra\", \"Bulancak\", \"Çamoluk\", \"Çanakçı\", \"Dereli\", \"Doğankent\", \"Espiye\", \"Eynesil\", \"Giresun\",\n",
        "                \"Görele\", \"Güce\", \"Keşap\", \"Piraziz\", \"Şebinkarahisar\", \"Tirebolu\", \"Yağlıdere\"],\n",
        "\n",
        "    \"Gümüşhane\": [\"Gümüşhane\", \"Kelkit\", \"Köse\", \"Kürtün\", \"Şiran\", \"Torul\"],\n",
        "\n",
        "    \"Hakkâri\": [\"Çukurca\", \"Hakkâri\", \"Şemdinli\", \"Yüksekova\"],\n",
        "\n",
        "    \"Hatay\": [\"Altınözü\", \"Antakya\", \"Arsuz\", \"Belen\", \"Defne\", \"Dörtyol\", \"Erzin\", \"Hassa\", \"İskenderun\", \"Kırıkhan\",\n",
        "              \"Kumlu\", \"Payas\", \"Reyhanlı\", \"Samandağ\", \"Yayladağı\"],\n",
        "\n",
        "    \"Iğdır\": [\"Aralık\", \"Iğdır\", \"Karakoyunlu\", \"Tuzluca\"],\n",
        "\n",
        "    \"Isparta\": [\"Aksu\", \"Atabey\", \"Eğirdir\", \"Gelendost\", \"Gönen\", \"Isparta\", \"Keçiborlu\", \"Senirkent\", \"Sütçüler\",\n",
        "                \"Şarkikaraağaç\", \"Uluborlu\", \"Yalvaç\", \"Yenişarbademli\"],\n",
        "\n",
        "    \"İstanbul\": [\"Adalar\", \"Arnavutköy\", \"Ataşehir\", \"Avcılar\", \"Bağcılar\", \"Bahçelievler\", \"Bakırköy\", \"Başakşehir\",\n",
        "                 \"Bayrampaşa\", \"Beşiktaş\", \"Beykoz\", \"Beylikdüzü\", \"Beyoğlu\", \"Büyükçekmece\", \"Çatalca\", \"Çekmeköy\",\n",
        "                 \"Esenler\", \"Esenyurt\", \"Eyüp\", \"Fatih\", \"Gaziosmanpaşa\", \"Güngören\", \"Kadıköy\", \"Kağıthane\", \"Kartal\",\n",
        "                 \"Küçükçekmece\", \"Maltepe\", \"Pendik\", \"Sancaktepe\", \"Sarıyer\", \"Silivri\", \"Sultanbeyli\", \"Sultangazi\",\n",
        "                 \"Şile\", \"Şişli\", \"Tuzla\", \"Ümraniye\", \"Üsküdar\", \"Zeytinburnu\"],\n",
        "\n",
        "    \"İzmir\": [\"Aliağa\", \"Balçova\", \"Bayındır\", \"Bayraklı\", \"Bergama\", \"Beydağ\", \"Bornova\", \"Buca\", \"Çeşme\", \"Çiğli\",\n",
        "              \"Dikili\", \"Foça\", \"Gaziemir\", \"Güzelbahçe\", \"Karabağlar\", \"Karaburun\", \"Karşıyaka\", \"Kemalpaşa\", \"Kınık\",\n",
        "              \"Kiraz\", \"Konak\", \"Menderes\", \"Menemen\", \"Narlıdere\", \"Ödemiş\", \"Seferihisar\", \"Selçuk\", \"Tire\",\n",
        "              \"Torbalı\", \"Urla\"],\n",
        "\n",
        "    \"Kahramanmaraş\": [\"Afşin\", \"Andırın\", \"Çağlayancerit\", \"Dulkadiroğlu\", \"Ekinözü\", \"Elbistan\", \"Göksun\", \"Nurhak\",\n",
        "                      \"Onikişubat\", \"Pazarcık\", \"Türkoğlu\"],\n",
        "\n",
        "    \"Karabük\": [\"Eflani\", \"Eskipazar\", \"Karabük\", \"Ovacık\", \"Safranbolu\", \"Yenice\"],\n",
        "\n",
        "    \"Karaman\": [\"Ayrancı\", \"Başyayla\", \"Ermenek\", \"Karaman\", \"Kazımkarabekir\", \"Sarıveliler\"],\n",
        "\n",
        "    \"Kars\": [\"Akyaka\", \"Arpaçay\", \"Digor\", \"Kağızman\", \"Kars\", \"Sarıkamış\", \"Selim\", \"Susuz\"],\n",
        "\n",
        "    \"Kastamonu\": [\"Abana\", \"Ağlı\", \"Araç\", \"Azdavay\", \"Bozkurt\", \"Cide\", \"Çatalzeytin\", \"Daday\", \"Devrekani\",\n",
        "                  \"Doğanyurt\", \"Hanönü\", \"İhsangazi\", \"İnebolu\", \"Kastamonu\", \"Küre\", \"Pınarbaşı\", \"Seydiler\",\n",
        "                  \"Şenpazar\", \"Taşköprü\", \"Tosya\"],\n",
        "\n",
        "    \"Kayseri\": [\"Akkışla\", \"Bünyan\", \"Develi\", \"Felahiye\", \"Hacılar\", \"İncesu\", \"Kocasinan\", \"Melikgazi\", \"Özvatan\",\n",
        "                \"Pınarbaşı\", \"Sarıoğlan\", \"Sarız\", \"Talas\", \"Tomarza\", \"Yahyalı\", \"Yeşilhisar\"],\n",
        "\n",
        "    \"Kırıkkale\": [\"Bahşılı\", \"Balışeyh\", \"Çelebi\", \"Delice\", \"Karakeçili\", \"Keskin\", \"Kırıkkale\", \"Sulakyurt\",\n",
        "                  \"Yahşihan\"],\n",
        "\n",
        "    \"Kırklareli\": [\"Babaeski\", \"Demirköy\", \"Kırklareli\", \"Kofçaz\", \"Lüleburgaz\", \"Pehlivanköy\", \"Pınarhisar\", \"Vize\"],\n",
        "\n",
        "    \"Kırşehir\": [\"Akçakent\", \"Akpınar\", \"Boztepe\", \"Çiçekdağı\", \"Kaman\", \"Kırşehir\", \"Mucur\"],\n",
        "\n",
        "    \"Kilis\": [\"Elbeyli\", \"Kilis\", \"Musabeyli\", \"Polateli\"],\n",
        "\n",
        "    \"Kocaeli\": [\"Başiskele\", \"Çayırova\", \"Darıca\", \"Derince\", \"Dilovası\", \"Gebze\", \"Gölcük\", \"İzmit\", \"Kandıra\",\n",
        "                \"Karamürsel\", \"Kartepe\", \"Körfez\"],\n",
        "\n",
        "    \"Konya\": [\"Ahırlı\", \"Akören\", \"Akşehir\", \"Altınekin\", \"Beyşehir\", \"Bozkır\", \"Cihanbeyli\", \"Çeltik\", \"Çumra\",\n",
        "              \"Derbent\", \"Derebucak\", \"Doğanhisar\", \"Emirgazi\", \"Ereğli\", \"Güneysınır\", \"Hadım\", \"Halkapınar\", \"Hüyük\",\n",
        "              \"Ilgın\", \"Kadınhanı\", \"Karapınar\", \"Karatay\", \"Kulu\", \"Meram\", \"Sarayönü\", \"Selçuklu\", \"Seydişehir\",\n",
        "              \"Taşkent\", \"Tuzlukçu\", \"Yalıhüyük\", \"Yunak\"],\n",
        "\n",
        "    \"Kütahya\": [\"Altıntaş\", \"Aslanapa\", \"Çavdarhisar\", \"Domaniç\", \"Dumlupınar\", \"Emet\", \"Gediz\", \"Hisarcık\", \"Kütahya\",\n",
        "                \"Pazarlar\", \"Şaphane\", \"Simav\", \"Tavşanlı\"],\n",
        "\n",
        "    \"Malatya\": [\"Akçadağ\", \"Arapgir\", \"Arguvan\", \"Battalgazi\", \"Darende\", \"Doğanşehir\", \"Doğanyol\", \"Hekimhan\", \"Kale\",\n",
        "                \"Kuluncak\", \"Pütürge\", \"Yazıhan\", \"Yeşilyurt\"],\n",
        "\n",
        "    \"Manisa\": [\"Ahmetli\", \"Akhisar\", \"Alaşehir\", \"Demirci\", \"Gölmarmara\", \"Gördes\", \"Kırkağaç\", \"Köprübaşı\", \"Kula\",\n",
        "               \"Salihli\", \"Sarıgöl\", \"Saruhanlı\", \"Selendi\", \"Soma\", \"Şehzadeler\", \"Turgutlu\", \"Yunusemre\"],\n",
        "\n",
        "    \"Mardin\": [\"Artuklu\", \"Dargeçit\", \"Derik\", \"Kızıltepe\", \"Mazıdağı\", \"Midyat\", \"Nusaybin\", \"Ömerli\", \"Savur\",\n",
        "               \"Yeşilli\"],\n",
        "\n",
        "    \"Mersin\": [\"Akdeniz\", \"Anamur\", \"Aydıncık\", \"Bozyazı\", \"Çamlıyayla\", \"Erdemli\", \"Gülnar\", \"Mezitli\", \"Mut\",\n",
        "               \"Silifke\", \"Tarsus\", \"Toroslar\", \"Yenişehir\"],\n",
        "\n",
        "    \"Muğla\": [\"Bodrum\", \"Dalaman\", \"Datça\", \"Fethiye\", \"Kavaklıdere\", \"Köyceğiz\", \"Marmaris\", \"Menteşe\", \"Milas\",\n",
        "              \"Ortaca\", \"Seydikemer\", \"Ula\", \"Yatağan\"],\n",
        "\n",
        "    \"Muş\": [\"Bulanık\", \"Hasköy\", \"Korkut\", \"Malazgirt\", \"Muş\", \"Varto\"],\n",
        "\n",
        "    \"Nevşehir\": [\"Acıgöl\", \"Avanos\", \"Derinkuyu\", \"Gülşehir\", \"Hacıbektaş\", \"Kozaklı\", \"Nevşehir\", \"Ürgüp\"],\n",
        "\n",
        "    \"Niğde\": [\"Altunhisar\", \"Bor\", \"Çamardı\", \"Çiftlik\", \"Niğde\", \"Ulukışla\"],\n",
        "\n",
        "    \"Ordu\": [\"Akkuş\", \"Altınordu\", \"Aybastı\", \"Çamaş\", \"Çatalpınar\", \"Çaybaşı\", \"Fatsa\", \"Gölköy\", \"Gülyalı\",\n",
        "             \"Gürgentepe\", \"İkizce\", \"Kabadüz\", \"Kabataş\", \"Korgan\", \"Kumru\", \"Mesudiye\", \"Perşembe\", \"Ulubey\", \"Ünye\"],\n",
        "\n",
        "    \"Osmaniye\": [\"Bahçe\", \"Düziçi\", \"Hasanbeyli\", \"Kadirli\", \"Osmaniye\", \"Sumbas\", \"Toprakkale\"],\n",
        "\n",
        "    \"Rize\": [\"Ardeşen\", \"Çamlıhemşin\", \"Çayeli\", \"Derepazarı\", \"Fındıklı\", \"Güneysu\", \"Hemşin\", \"İkizdere\", \"İyidere\",\n",
        "             \"Kalkandere\", \"Pazar\", \"Rize\"],\n",
        "\n",
        "    \"Sakarya\": [\"Adapazarı\", \"Akyazı\", \"Arifiye\", \"Erenler\", \"Ferizli\", \"Geyve\", \"Hendek\", \"Karapürçek\", \"Karasu\",\n",
        "                \"Kaynarca\", \"Kocaali\", \"Pamukova\", \"Sapanca\", \"Serdivan\", \"Söğütlü\", \"Taraklı\"],\n",
        "\n",
        "    \"Samsun\": [\"Alaçam\", \"Asarcık\", \"Atakum\", \"Ayvacık\", \"Bafra\", \"Canik\", \"Çarşamba\", \"Havza\", \"İlkadım\", \"Kavak\",\n",
        "               \"Ladik\", \"Ondokuzmayıs\", \"Salıpazarı\", \"Tekkeköy\", \"Terme\", \"Vezirköprü\", \"Yakakent\"],\n",
        "\n",
        "    \"Siirt\": [\"Siirt\", \"Tillo\", \"Baykan\", \"Eruh\", \"Kurtalan\", \"Pervari\", \"Şirvan\"],\n",
        "\n",
        "    \"Sinop\": [\"Ayancık\", \"Boyabat\", \"Dikmen\", \"Durağan\", \"Erfelek\", \"Gerze\", \"Saraydüzü\", \"Sinop\", \"Türkeli\"],\n",
        "\n",
        "    \"Sivas\": [\"Akıncılar\", \"Altınyayla\", \"Divriği\", \"Doğanşar\", \"Gemerek\", \"Gölova\", \"Hafik\", \"İmranlı\", \"Kangal\",\n",
        "              \"Koyulhisar\", \"Sivas\", \"Suşehri\", \"Şarkışla\", \"Ulaş\", \"Yıldızeli\", \"Zara\", \"Gürün\"],\n",
        "\n",
        "    \"Şanlıurfa\": [\"Akçakale\", \"Birecik\", \"Bozova\", \"Ceylanpınar\", \"Eyyübiye\", \"Halfeti\", \"Haliliye\", \"Harran\", \"Hilvan\",\n",
        "                  \"Karaköprü\", \"Siverek\", \"Suruç\", \"Viranşehir\"],\n",
        "\n",
        "    \"Şırnak\": [\"Beytüşşebap\", \"Cizre\", \"Güçlükonak\", \"İdil\", \"Silopi\", \"Şırnak\", \"Uludere\"],\n",
        "\n",
        "    \"Tekirdağ\": [\"Çerkezköy\", \"Çorlu\", \"Ergene\", \"Hayrabolu\", \"Kapaklı\", \"Malkara\", \"Marmara Ereğlisi\", \"Muratlı\",\n",
        "                 \"Saray\", \"Süleymanpaşa\", \"Şarköy\"],\n",
        "\n",
        "    \"Tokat\": [\"Almus\", \"Artova\", \"Başçiftlik\", \"Erbaa\", \"Niksar\", \"Pazar\", \"Reşadiye\", \"Sulusaray\", \"Tokat\", \"Turhal\",\n",
        "              \"Yeşilyurt\", \"Zile\"],\n",
        "\n",
        "    \"Trabzon\": [\"Akçaabat\", \"Araklı\", \"Arsin\", \"Beşikdüzü\", \"Çarşıbaşı\", \"Çaykara\", \"Dernekpazarı\", \"Düzköy\", \"Hayrat\",\n",
        "                \"Köprübaşı\", \"Maçka\", \"Of\", \"Ortahisar\", \"Sürmene\", \"Şalpazarı\", \"Tonya\", \"Vakfıkebir\", \"Yomra\"],\n",
        "\n",
        "    \"Tunceli\": [\"Çemişgezek\", \"Hozat\", \"Mazgirt\", \"Nazımiye\", \"Ovacık\", \"Pertek\", \"Pülümür\", \"Tunceli\"],\n",
        "\n",
        "    \"Uşak\": [\"Banaz\", \"Eşme\", \"Karahallı\", \"Sivaslı\", \"Ulubey\", \"Uşak\"],\n",
        "\n",
        "    \"Van\": [\"Bahçesaray\", \"Başkale\", \"Çaldıran\", \"Çatak\", \"Edremit\", \"Erciş\", \"Gevaş\", \"Gürpınar\", \"İpekyolu\",\n",
        "            \"Muradiye\", \"Özalp\", \"Saray\", \"Tuşba\"],\n",
        "\n",
        "    \"Yalova\": [\"Altınova\", \"Armutlu\", \"Çınarcık\", \"Çiftlikköy\", \"Termal\", \"Yalova\"],\n",
        "\n",
        "    \"Yozgat\": [\"Akdağmadeni\", \"Aydıncık\", \"Boğazlıyan\", \"Çandır\", \"Çayıralan\", \"Çekerek\", \"Kadışehri\", \"Saraykent\",\n",
        "               \"Sarıkaya\", \"Sorgun\", \"Şefaatli\", \"Yenifakılı\", \"Yerköy\", \"Yozgat\"],\n",
        "\n",
        "    \"Zonguldak\": [\"Alaplı\", \"Çaycuma\", \"Devrek\", \"Gökçebey\", \"Kilimli\", \"Kozlu\", \"Karadeniz Ereğli\", \"Zonguldak\"]\n",
        "}"
      ],
      "metadata": {
        "id": "w2HXBPI6hEKL"
      },
      "execution_count": null,
      "outputs": []
    },
    {
      "cell_type": "markdown",
      "source": [
        "## Set"
      ],
      "metadata": {
        "id": "SNLNqsEeDvS2"
      }
    },
    {
      "cell_type": "code",
      "source": [
        "# Python'da kümeler (set), sırasız ve tekrarsız öğelerden oluşan veri yapılarıdır.\n",
        "\n",
        "# set oluşturma\n",
        "kume = {1, 2, 3, 4}\n",
        "\n",
        "# eleman ekleme\n",
        "kume.add(5)"
      ],
      "metadata": {
        "id": "kMWvTez2DuTE"
      },
      "execution_count": null,
      "outputs": []
    },
    {
      "cell_type": "code",
      "source": [
        "my_set = {1, 2, 3}\n",
        "print(my_set)\n",
        "my_set.add(4)\n",
        "print(my_set)\n",
        "my_set.add(1)  # Kümede zaten var, eklenmez\n",
        "print(my_set)  # Çıktı: {1, 2, 3, 4}\n"
      ],
      "metadata": {
        "colab": {
          "base_uri": "https://localhost:8080/"
        },
        "id": "cxUaDxePEK60",
        "outputId": "85f836b5-3525-4874-f842-6d44005f89cf"
      },
      "execution_count": null,
      "outputs": [
        {
          "output_type": "stream",
          "name": "stdout",
          "text": [
            "{1, 2, 3}\n",
            "{1, 2, 3, 4}\n",
            "{1, 2, 3, 4}\n"
          ]
        }
      ]
    },
    {
      "cell_type": "code",
      "source": [
        "kume = set()\n",
        "kume.add(\"Trabzon\")\n",
        "kume.add(\"Bursa\")\n",
        "kume.add(\"Bursa\")\n",
        "kume.add(\"Artvin\")\n",
        "kume.add(\"Zonguldak\")\n",
        "kume.add(\"Bursa\")\n",
        "kume.add(\"Giresun\")\n",
        "kume.add(\"İstanbul\")\n",
        "kume.add(\"Artvin\")\n",
        "kume.add(\"Bingöl\")\n",
        "kume.add(\"Samsun\")\n",
        "kume.add(\"Bilecik\")\n",
        "kume.add(\"Eskişehir\")\n",
        "kume.add(\"Diyarbakır\")\n",
        "\n",
        "print(len(kume),kume)"
      ],
      "metadata": {
        "colab": {
          "base_uri": "https://localhost:8080/"
        },
        "id": "KYjPsudEjVnZ",
        "outputId": "1b1da3cb-6c00-47d5-acf0-0f0caadd5a27"
      },
      "execution_count": null,
      "outputs": [
        {
          "output_type": "stream",
          "name": "stdout",
          "text": [
            "11 {'Giresun', 'Samsun', 'Diyarbakır', 'Trabzon', 'İstanbul', 'Bursa', 'Zonguldak', 'Bilecik', 'Artvin', 'Eskişehir', 'Bingöl'}\n"
          ]
        }
      ]
    },
    {
      "cell_type": "code",
      "source": [
        "# kalıp: 10TL, harf basım:5TL\n",
        "# yazı maliyeti hesapla\n",
        "kalip_maliyet = 10\n",
        "harf_basim_maliyeti = 5\n",
        "\n",
        "s = \"Ey Edip Adanada Pide Ye\"\n",
        "s = s.replace(\" \",\"\")\n",
        "harfler = list(s)\n",
        "harf_sayisi = len(harfler)\n",
        "\n",
        "harf_basim_tutar = harf_sayisi * harf_basim_maliyeti\n",
        "print(len(harfler),harfler)\n",
        "\n",
        "s = set(s)\n",
        "kalip_tutar = len(s) * kalip_maliyet\n",
        "\n",
        "print(\"Toplam Maliyet:\",harf_basim_tutar+kalip_tutar)"
      ],
      "metadata": {
        "colab": {
          "base_uri": "https://localhost:8080/"
        },
        "id": "V5ppk9N0khZR",
        "outputId": "caf2dc58-6baf-4dae-dfaf-ce13a5394be5"
      },
      "execution_count": null,
      "outputs": [
        {
          "output_type": "stream",
          "name": "stdout",
          "text": [
            "19 ['E', 'y', 'E', 'd', 'i', 'p', 'A', 'd', 'a', 'n', 'a', 'd', 'a', 'P', 'i', 'd', 'e', 'Y', 'e']\n",
            "Toplam Maliyet: 205\n",
            "11 {'Y', 'y', 'i', 'n', 'd', 'p', 'A', 'e', 'a', 'P', 'E'}\n"
          ]
        }
      ]
    },
    {
      "cell_type": "code",
      "source": [
        "my_set = {1, 2, 3}\n",
        "my_set.remove(2)\n",
        "print(my_set)  # Çıktı: {1, 3}\n",
        "\n",
        "# Eğer eleman yoksa KeyError verir\n",
        "# my_set.remove(5)  # KeyError: 5\n"
      ],
      "metadata": {
        "id": "MvBL55g7EPwR"
      },
      "execution_count": null,
      "outputs": []
    },
    {
      "cell_type": "code",
      "source": [
        "my_set = {1, 2, 3}\n",
        "my_set.discard(2)\n",
        "print(my_set)  # Çıktı: {1, 3}\n",
        "\n",
        "# Eleman yoksa hata vermez\n",
        "my_set.discard(5)  # Hata yok\n",
        "print(my_set)  # Çıktı: {1, 3}\n"
      ],
      "metadata": {
        "id": "D17sdBjWEbN0"
      },
      "execution_count": null,
      "outputs": []
    },
    {
      "cell_type": "code",
      "source": [
        "my_set = {1, 2, 3}\n",
        "removed_element = my_set.pop()\n",
        "print(removed_element)  # Çıktı: (Rastgele bir eleman, örn: 1)\n",
        "print(my_set)  # Çıktı: (Kümede kalan elemanlar, örn: {2, 3})\n"
      ],
      "metadata": {
        "id": "RxCTD56HEcXU"
      },
      "execution_count": null,
      "outputs": []
    },
    {
      "cell_type": "code",
      "source": [
        "my_set = {1, 2, 3}\n",
        "my_set.clear()\n",
        "print(my_set)  # Çıktı: set()\n"
      ],
      "metadata": {
        "id": "XKugeG75Egdc"
      },
      "execution_count": null,
      "outputs": []
    },
    {
      "cell_type": "code",
      "source": [
        "set1 = {1, 2, 3}\n",
        "set2 = {3, 4, 5}\n",
        "union_set = set1.union(set2)\n",
        "print(union_set)  # Çıktı: {1, 2, 3, 4, 5}\n"
      ],
      "metadata": {
        "colab": {
          "base_uri": "https://localhost:8080/"
        },
        "id": "6Vdg2PtPEksE",
        "outputId": "2a418287-6c1d-41c3-9d5b-c1dc9778db11"
      },
      "execution_count": null,
      "outputs": [
        {
          "output_type": "stream",
          "name": "stdout",
          "text": [
            "{1, 2, 3, 4, 5}\n"
          ]
        }
      ]
    },
    {
      "cell_type": "code",
      "source": [
        "set1 = {1, 2, 3}\n",
        "set2 = {3, 4, 5}\n",
        "intersection_set = set1.intersection(set2)\n",
        "print(intersection_set)  # Çıktı: {3}\n"
      ],
      "metadata": {
        "id": "Z6ZrGgAUEnD8"
      },
      "execution_count": null,
      "outputs": []
    },
    {
      "cell_type": "code",
      "source": [
        "set1 = {1, 2, 3}\n",
        "set2 = {3, 4, 5}\n",
        "difference_set = set1.difference(set2)\n",
        "print(difference_set)  # Çıktı: {1, 2}\n"
      ],
      "metadata": {
        "id": "aD8jo4KJEn4E"
      },
      "execution_count": null,
      "outputs": []
    },
    {
      "cell_type": "code",
      "source": [
        "set1 = {1, 2, 3}\n",
        "set2 = {3, 4, 5}\n",
        "symmetric_difference_set = set1.symmetric_difference(set2)\n",
        "print(symmetric_difference_set)  # Çıktı: {1, 2, 4, 5}\n"
      ],
      "metadata": {
        "id": "epl_TwTIFEJ7"
      },
      "execution_count": null,
      "outputs": []
    },
    {
      "cell_type": "code",
      "source": [
        "set1 = {1, 2}\n",
        "set2 = {1, 2, 3, 4}\n",
        "is_subset = set1.issubset(set2)\n",
        "print(is_subset)  # Çıktı: True\n"
      ],
      "metadata": {
        "id": "Zh5CLtlrFFBj"
      },
      "execution_count": null,
      "outputs": []
    },
    {
      "cell_type": "code",
      "source": [
        "set1 = {1, 2, 3, 4}\n",
        "set2 = {1, 2}\n",
        "is_superset = set1.issuperset(set2)\n",
        "print(is_superset)  # Çıktı: True\n"
      ],
      "metadata": {
        "id": "c2Wcz-JOFIzz"
      },
      "execution_count": null,
      "outputs": []
    },
    {
      "cell_type": "code",
      "source": [
        "# isdisjoint(): İki kümenin kesişim kümesinin boş olup olmadığını kontrol eder (hiç ortak eleman yoksa True döner).\n",
        "set1 = {1, 2, 3}\n",
        "set2 = {4, 5, 6}\n",
        "is_disjoint = set1.isdisjoint(set2)\n",
        "print(is_disjoint)  # Çıktı: True\n"
      ],
      "metadata": {
        "id": "nyIoacHVFLgV"
      },
      "execution_count": null,
      "outputs": []
    },
    {
      "cell_type": "markdown",
      "source": [
        "## liste indisleme ve dilimleme"
      ],
      "metadata": {
        "id": "z3M_71yqJFIX"
      }
    },
    {
      "cell_type": "code",
      "source": [
        "# indisleme\n",
        "my_list = [10, 20, 30, 40, 50]\n",
        "\n",
        "# İlk elemanı al\n",
        "print(my_list[0])  # Çıktı: 10\n",
        "\n",
        "# Üçüncü elemanı al\n",
        "print(my_list[2])  # Çıktı: 30\n",
        "\n",
        "# Son elemanı al\n",
        "print(my_list[-1])  # Çıktı: 50\n",
        "\n",
        "# İkinci son elemanı al\n",
        "print(my_list[-2])  # Çıktı: 40\n"
      ],
      "metadata": {
        "id": "gUqoIf8SJJF9"
      },
      "execution_count": null,
      "outputs": []
    },
    {
      "cell_type": "code",
      "source": [
        "# dilimleme\n",
        "my_list = [10, 20, 30, 40, 50, 60, 70, 80, 90, 100]\n",
        "\n",
        "# [start : stop : step], stop indisibne denk gelen eleman alınmaz, [start,stop)\n",
        "\n",
        "# İlk 5 elemanı al\n",
        "print(my_list[:5])  # Çıktı: [10, 20, 30, 40, 50\n",
        "\n",
        "# İlk 4 elemanı al\n",
        "print(my_list[:4])  # Çıktı: [10, 20, 30, 40]\n",
        "\n",
        "# 3. indeksten itibaren (dahil) sonuna kadar al\n",
        "print(my_list[3:])  # Çıktı: [40, 50, 60, 70, 80, 90, 100]\n",
        "\n",
        "# 2. indeksten 6. indekse kadar (dahil) al\n",
        "print(my_list[2:7])  # Çıktı: [30, 40, 50, 60, 70]\n",
        "\n",
        "# Baştan sona her 2. elemanı al\n",
        "print(my_list[::2])  # Çıktı: [10, 30, 50, 70, 90]\n",
        "\n",
        "# Son 3 elemanı al\n",
        "print(my_list[-3:])  # Çıktı: [80, 90, 100]\n",
        "\n",
        "# Tüm listeyi tersten al\n",
        "print(my_list[::-1])  # Çıktı: [100, 90, 80, 70, 60, 50, 40, 30, 20, 10]\n",
        "\n",
        "# 2. indeksten başlayarak her 3. elemanı al\n",
        "print(my_list[2::3])  # Çıktı: [30, 60, 90]\n"
      ],
      "metadata": {
        "id": "sySWPjvAJNjV"
      },
      "execution_count": null,
      "outputs": []
    },
    {
      "cell_type": "code",
      "source": [
        "# indisleme dilimleme kombinasyonları\n",
        "my_list = [10, 20, 30, 40, 50, 60, 70, 80, 90, 100]\n",
        "\n",
        "# İlk 5 elemanı al, son 2 elemanı al\n",
        "print(my_list[:5][-2:])  # Çıktı: [40, 50]\n"
      ],
      "metadata": {
        "colab": {
          "base_uri": "https://localhost:8080/"
        },
        "id": "3d9Nc7ycJUZU",
        "outputId": "b0f1fbc6-2482-40d8-fa02-392594df0eb7"
      },
      "execution_count": null,
      "outputs": [
        {
          "output_type": "stream",
          "name": "stdout",
          "text": [
            "[40, 50]\n"
          ]
        }
      ]
    },
    {
      "cell_type": "markdown",
      "source": [
        "# Koşul İfadeleri"
      ],
      "metadata": {
        "id": "uJUztl0NF1IR"
      }
    },
    {
      "cell_type": "code",
      "source": [
        "x = 10\n",
        "\n",
        "if x > 5:\n",
        "  print(\"x, 5'ten büyüktür.\")  # Çıktı: x, 5'ten büyüktür.\n",
        "print(x)\n"
      ],
      "metadata": {
        "id": "fiw61idHFOEs"
      },
      "execution_count": null,
      "outputs": []
    },
    {
      "cell_type": "code",
      "source": [
        "y = 3\n",
        "\n",
        "if y % 2 == 0:\n",
        "    print(\"y, çift sayıdır.\")\n",
        "else:\n",
        "    print(\"y, tek sayıdır.\")  # Çıktı: y, tek sayıdır.\n"
      ],
      "metadata": {
        "id": "-BirFJInF-lm"
      },
      "execution_count": null,
      "outputs": []
    },
    {
      "cell_type": "code",
      "source": [
        "# AS, FN notunu gir. AS=%40, FN=%60\n",
        "# ort bul,\n",
        "# ort<50 ise kalsın, değilse geçsin.\n",
        "as_ = input(\"AS notunu giriniz: \")\n",
        "fn_ = input(\"FN notunu giriniz: \")\n",
        "\n",
        "as_ = int(as_)\n",
        "fn_ = int(fn_)\n",
        "\n",
        "ort = as_ * 0.4 + fn_ * 0.6\n",
        "\n",
        "if ort < 50:\n",
        "    print(\"Kaldınız.\")\n",
        "    pass\n",
        "else:\n",
        "    print(\"Geçtiniz.\")\n",
        "\n"
      ],
      "metadata": {
        "id": "hQE1NhLYsX-c"
      },
      "execution_count": null,
      "outputs": []
    },
    {
      "cell_type": "code",
      "source": [
        "z = 15\n",
        "\n",
        "if z < 10:\n",
        "    print(\"z, 10'dan küçüktür.\")\n",
        "elif z == 10:\n",
        "    print(\"z, 10'a eşittir.\")\n",
        "else:\n",
        "    print(\"z, 10'dan büyüktür.\")  # Çıktı: z, 10'dan büyüktür.\n"
      ],
      "metadata": {
        "id": "T4tJ3YItGCYG"
      },
      "execution_count": null,
      "outputs": []
    },
    {
      "cell_type": "code",
      "source": [
        "# birden fazla koşul\n",
        "age = 20\n",
        "income = 3000\n",
        "\n",
        "if age > 18 and income > 2000:\n",
        "    print(\"Kredi alabilirsiniz.\")  # Çıktı: Kredi alabilirsiniz.\n",
        "else:\n",
        "    print(\"Kredi alamazsınız.\")\n",
        "\n"
      ],
      "metadata": {
        "id": "KKZZve6NGDP-"
      },
      "execution_count": null,
      "outputs": []
    },
    {
      "cell_type": "code",
      "source": [
        "number = -5\n",
        "\n",
        "if number >= 0:\n",
        "    if number == 0:\n",
        "        print(\"Sayı sıfırdır.\")\n",
        "    else:\n",
        "        print(\"Sayı pozitiftir.\")\n",
        "else:\n",
        "    print(\"Sayı negatiftir.\")  # Çıktı: Sayı negatiftir.\n"
      ],
      "metadata": {
        "id": "k5l8wSa9GKlI"
      },
      "execution_count": null,
      "outputs": []
    },
    {
      "cell_type": "code",
      "source": [
        "# Koşul İfadelerini Tek Satırda Yazma (Ternary Operator)\n",
        "\n",
        "a = 8\n",
        "b = 12\n",
        "\n",
        "# Koşulu tek satırda yazmak\n",
        "min_value = a if a < b else b\n",
        "print(f\"En küçük değer: {min_value}\")  # Çıktı: En küçük değer: 8\n",
        "\n"
      ],
      "metadata": {
        "id": "dt7Sd641GNhF"
      },
      "execution_count": null,
      "outputs": []
    },
    {
      "cell_type": "code",
      "source": [
        "bakiye = 2500\n",
        "banknot = {\n",
        "    \"200\":4,\n",
        "    \"100\":35,\n",
        "    \"50\":25,\n",
        "    \"20\":15\n",
        "}\n",
        "\n",
        "bank_miktar = banknot[\"200\"]*200 + banknot[\"100\"]*100 + banknot[\"50\"]*50 + banknot[\"20\"]*20\n",
        "\n",
        "bank_miktar = 0\n",
        "bank_miktar += banknot[\"200\"]*200\n",
        "bank_miktar += banknot[\"100\"]*100\n",
        "bank_miktar += banknot[\"50\"]*50\n",
        "bank_miktar += banknot[\"20\"]*20\n",
        "\n",
        "print(f\"Bakiyeniz: {bakiye}\")\n",
        "cekilen = int(input(\"Çekmek istediğiniz miktarı giriniz: \"))\n",
        "\n",
        "if cekilen > bakiye:\n",
        "    print(\"Yetersiz bakiye.\")\n",
        "elif cekilen > bank_miktar:\n",
        "    print(\"Bankamatikte yetersiz para miktarı.\"),\n",
        "    print(f\"Bankamatik toplam miktarı: {bank_miktar}\")\n",
        "    print(\"Bu tutarı çekmek ister misiniz? (E/h)\")\n",
        "    cevap = input()\n",
        "    if cevap == \"E\" or cevap == \"\":\n",
        "      print(\"Çekim işlemi yapılıyor...\")\n",
        "      pass\n",
        "    else:\n",
        "      print(\"Çekme işlemi iptal edildi.\")\n",
        "else:\n",
        "    print(\"Paranız hazırlanıyor...\")\n",
        "    orj_cekilen = cekilen\n",
        "    if banknot[\"200\"]*200 >= cekilen:\n",
        "      print(f\"200 TL banknotu: {cekilen//200}\")\n",
        "      cekilen %= 200\n",
        "      banknot[\"200\"] -= cekilen//200\n",
        "    if banknot[\"100\"]*100 >= cekilen:\n",
        "      print(f\"100 TL banknotu: {cekilen//100}\")\n",
        "      cekilen %= 100\n",
        "      banknot[\"100\"] -= cekilen//100\n",
        "    if banknot[\"50\"]*50 >= cekilen:\n",
        "      print(f\"50 TL banknotu: {cekilen//50}\")\n",
        "      cekilen %= 50\n",
        "      banknot[\"50\"] -= cekilen//50\n",
        "    if banknot[\"20\"]*20 >= cekilen:\n",
        "      print(f\"20 TL banknotu: {cekilen//20}\")\n",
        "      cekilen %= 20\n",
        "      banknot[\"20\"] -= cekilen//20\n",
        "    print(f\"Bakiye ye aktarılacak miktar: {cekilen}\")\n",
        "    cekilen_tutar = orj_cekilen - cekilen\n",
        "    print(f\"Çekilen Tutar: {cekilen_tutar}\")\n",
        "    bakiye -= cekilen_tutar\n",
        "    print(f\"Kalan Bakiye: {bakiye}\")\n"
      ],
      "metadata": {
        "colab": {
          "base_uri": "https://localhost:8080/"
        },
        "id": "L6sxwC8Lzx7q",
        "outputId": "78bdf969-89a7-427a-a3a1-48628cca7d50"
      },
      "execution_count": null,
      "outputs": [
        {
          "output_type": "stream",
          "name": "stdout",
          "text": [
            "Bakiyeniz: 2500\n",
            "Çekmek istediğiniz miktarı giriniz: 2385\n",
            "Paranız hazırlanıyor...\n",
            "100 TL banknotu: 23\n",
            "50 TL banknotu: 1\n",
            "20 TL banknotu: 1\n",
            "Bakiye ye aktarılacak miktar: 15\n",
            "Çekilen Tutar: 2370\n",
            "Kalan Bakiye: 130\n"
          ]
        }
      ]
    },
    {
      "cell_type": "code",
      "source": [
        "# gelir miktarı kullanıcı girsin\n",
        "# asgari = 17_002\n",
        "# gelir < asgari, vergi yok\n",
        "# fazlalık, 0-50 bin, %15 vergi\n",
        "# fazlalık, 50-100 bin, %20 vergi\n",
        "# fazlalık, 100binden fazla, %30 vergi\n",
        "# toplam vergi miktarını bul"
      ],
      "metadata": {
        "id": "eDAM1nas-8Ww"
      },
      "execution_count": null,
      "outputs": []
    },
    {
      "cell_type": "markdown",
      "source": [
        "# Döngü İfadeleri"
      ],
      "metadata": {
        "id": "WMGrBvqAGW2o"
      }
    },
    {
      "cell_type": "markdown",
      "source": [
        "## for döngüsü"
      ],
      "metadata": {
        "id": "BYz3FKBIG70h"
      }
    },
    {
      "cell_type": "code",
      "source": [
        "# range\n",
        "ls2 = range(4,11,2)\n",
        "ls2 = list(ls2)\n",
        "print(ls2)"
      ],
      "metadata": {
        "colab": {
          "base_uri": "https://localhost:8080/"
        },
        "id": "CVGUnu5ywAwq",
        "outputId": "eff106f7-8079-41f1-c139-b9b953116eb2"
      },
      "execution_count": null,
      "outputs": [
        {
          "output_type": "stream",
          "name": "stdout",
          "text": [
            "[4, 6, 8, 10]\n"
          ]
        }
      ]
    },
    {
      "cell_type": "code",
      "source": [
        "# liste ekleme\n",
        "ls3 = range(10)\n",
        "ls3 = list(ls3)\n",
        "ls4 = ls3 + ls2\n",
        "print(ls4)"
      ],
      "metadata": {
        "colab": {
          "base_uri": "https://localhost:8080/"
        },
        "id": "M-wwurcDxfhK",
        "outputId": "7e3570d7-77d3-4a9d-fbd9-4847286d725e"
      },
      "execution_count": null,
      "outputs": [
        {
          "output_type": "stream",
          "name": "stdout",
          "text": [
            "[0, 1, 2, 3, 4, 5, 6, 7, 8, 9, 4, 6, 8, 10]\n"
          ]
        }
      ]
    },
    {
      "cell_type": "code",
      "source": [
        "s1 = \"Salı\"\n",
        "s2 = \"Perşembe\"\n",
        "\n",
        "s3 = s1 + s2\n",
        "print(s3)\n",
        "\n",
        "sayi1 = \"10\"\n",
        "sayi2 = \"20\"\n",
        "\n",
        "sayi3 = sayi1 + sayi2\n",
        "print(sayi3)"
      ],
      "metadata": {
        "colab": {
          "base_uri": "https://localhost:8080/"
        },
        "id": "PNIJHz5xx3UN",
        "outputId": "53994c45-61af-4952-d510-d3e37418a2f7"
      },
      "execution_count": null,
      "outputs": [
        {
          "output_type": "stream",
          "name": "stdout",
          "text": [
            "SalıPerşembe\n",
            "1020\n"
          ]
        }
      ]
    },
    {
      "cell_type": "code",
      "source": [
        "s3 = \"*\"\n",
        "print(s3*10)\n",
        "print(\"-----------------------------------\")\n",
        "print(\"#\"*20)"
      ],
      "metadata": {
        "colab": {
          "base_uri": "https://localhost:8080/"
        },
        "id": "nWFJpe7_yQ9T",
        "outputId": "7587b397-384f-4ea4-9144-188b1f61f5da"
      },
      "execution_count": null,
      "outputs": [
        {
          "output_type": "stream",
          "name": "stdout",
          "text": [
            "**********\n",
            "-----------------------------------\n",
            "####################\n"
          ]
        }
      ]
    },
    {
      "cell_type": "code",
      "source": [
        "ls = [1]*10\n",
        "print(ls)"
      ],
      "metadata": {
        "colab": {
          "base_uri": "https://localhost:8080/"
        },
        "id": "VKD9gprxy18U",
        "outputId": "06047123-0380-4119-e1eb-3c9403b6d86a"
      },
      "execution_count": null,
      "outputs": [
        {
          "output_type": "stream",
          "name": "stdout",
          "text": [
            "[1, 1, 1, 1, 1, 1, 1, 1, 1, 1]\n"
          ]
        }
      ]
    },
    {
      "cell_type": "code",
      "source": [
        "ls = list(range(1,11))\n",
        "print(ls)\n",
        "for deger in ls:\n",
        "  print(deger**2,end=\", \")"
      ],
      "metadata": {
        "colab": {
          "base_uri": "https://localhost:8080/"
        },
        "id": "PvyNyo0zzjyo",
        "outputId": "b32e50a0-b645-4f25-a288-b06360e36167"
      },
      "execution_count": null,
      "outputs": [
        {
          "output_type": "stream",
          "name": "stdout",
          "text": [
            "[1, 2, 3, 4, 5, 6, 7, 8, 9, 10]\n",
            "1, 4, 9, 16, 25, 36, 49, 64, 81, 100, "
          ]
        }
      ]
    },
    {
      "cell_type": "code",
      "source": [
        "# 0'dan 4'e kadar sayıları yazdırır\n",
        "for i in range(5):\n",
        "    print(i)  # Çıktı: 0 1 2 3 4\n",
        "\n",
        "# 3'ten 7'ye kadar (7 hariç) sayıları yazdırır\n",
        "for i in range(3, 7):\n",
        "    print(i)  # Çıktı: 3 4 5 6\n",
        "\n",
        "\n",
        "# 0'dan 10'a kadar 2'şer artışla sayıları yazdırır\n",
        "for i in range(0, 10, 2):\n",
        "    print(i)  # Çıktı: 0 2 4 6 8\n",
        "\n",
        "\n",
        "# 10'dan 1'e kadar geriye doğru 2'şer azalır\n",
        "for i in range(10, 0, -2):\n",
        "    print(i)  # Çıktı: 10 8 6 4 2\n"
      ],
      "metadata": {
        "colab": {
          "base_uri": "https://localhost:8080/"
        },
        "id": "Pr4FkvMrGa31",
        "outputId": "ad63ce83-87e1-4227-9079-de5c842d92f4"
      },
      "execution_count": null,
      "outputs": [
        {
          "output_type": "stream",
          "name": "stdout",
          "text": [
            "0\n",
            "1\n",
            "2\n",
            "3\n",
            "4\n",
            "3\n",
            "4\n",
            "5\n",
            "6\n",
            "0\n",
            "2\n",
            "4\n",
            "6\n",
            "8\n",
            "10\n",
            "8\n",
            "6\n",
            "4\n",
            "2\n"
          ]
        }
      ]
    },
    {
      "cell_type": "code",
      "source": [
        "# Bir liste elemanlarına `range()` ile indeks kullanarak erişim\n",
        "my_list = [\"elma\", \"muz\", \"kiraz\"]\n",
        "\n",
        "for deger in my_list:\n",
        "    print(deger,end=\", \")  # Çıktı: elma, muz, kiraz\n",
        "\n",
        "print()\n",
        "print(\"-\"*50)\n",
        "\n",
        "for i in range(len(my_list)):\n",
        "    print(f\"{i}: {my_list[i]}\")  # Çıktı: 0: elma, 1: muz, 2: kiraz\n"
      ],
      "metadata": {
        "colab": {
          "base_uri": "https://localhost:8080/"
        },
        "id": "SuxCzNM8HZtf",
        "outputId": "b7d3257a-ff19-4727-effe-a59f18cfc2c7"
      },
      "execution_count": null,
      "outputs": [
        {
          "output_type": "stream",
          "name": "stdout",
          "text": [
            "elma, muz, kiraz, \n",
            "--------------------------------------------------\n",
            "0: elma\n",
            "1: muz\n",
            "2: kiraz\n"
          ]
        }
      ]
    },
    {
      "cell_type": "code",
      "source": [
        "matrix = [\n",
        "    [1, 2, 3],\n",
        "    [4, 5, 6],\n",
        "    [7, 8, 9]\n",
        "]\n",
        "\n",
        "for row in matrix:\n",
        "    #print(row)  # Çıktı: [1, 2, 3], [4, 5, 6], [7, 8, 9]\n",
        "    for num in row:\n",
        "        print(num*2, end=\" \")  # Çıktı: 1 2 3 4 5 6 7 8 9\n",
        "    #print()  # Yeni satıra geçmek için\n",
        "\n",
        "print(matrix)"
      ],
      "metadata": {
        "colab": {
          "base_uri": "https://localhost:8080/"
        },
        "id": "1BvS9Ck8HeQg",
        "outputId": "88565e88-9683-4990-8967-d72103453678"
      },
      "execution_count": null,
      "outputs": [
        {
          "output_type": "stream",
          "name": "stdout",
          "text": [
            "2 4 6 8 10 12 14 16 18 [[1, 2, 3], [4, 5, 6], [7, 8, 9]]\n"
          ]
        }
      ]
    },
    {
      "cell_type": "code",
      "source": [
        "my_list = [1, 2, 3, 4, 5]\n",
        "\n",
        "for i in list(range(len(my_list))):\n",
        "  my_list[i] *= 2\n",
        "\n",
        "print(my_list)  # Çıktı: [2, 4, 6, 8, 10]\n"
      ],
      "metadata": {
        "colab": {
          "base_uri": "https://localhost:8080/"
        },
        "id": "SewTSVgQHgsJ",
        "outputId": "8e52f1ee-b836-42c6-daf7-5a1297f4b0bc"
      },
      "execution_count": null,
      "outputs": [
        {
          "output_type": "stream",
          "name": "stdout",
          "text": [
            "[2, 4, 6, 8, 10]\n"
          ]
        }
      ]
    },
    {
      "cell_type": "code",
      "source": [
        "my_tuple = (10, 20, 30)\n",
        "\n",
        "for num in my_tuple:\n",
        "    print(num)  # Çıktı: 10 20 30\n"
      ],
      "metadata": {
        "id": "T3KC82PgHkav"
      },
      "execution_count": null,
      "outputs": []
    },
    {
      "cell_type": "code",
      "source": [
        "my_dict = {\"isim\": \"Ahmet\", \"yaş\": 25, \"şehir\": \"İstanbul\"}\n",
        "\n",
        "for key in my_dict:\n",
        "    print(key)  # Çıktı: isim yaş şehir\n",
        "\n",
        "for val in my_dict.values():\n",
        "    print(val)  # Çıktı: Ahmet 25 İstanbul\n",
        "\n"
      ],
      "metadata": {
        "colab": {
          "base_uri": "https://localhost:8080/"
        },
        "id": "Z4pGhRZJHobN",
        "outputId": "d30dd008-b62b-42b8-bb9a-3103dfdd49cd"
      },
      "execution_count": null,
      "outputs": [
        {
          "output_type": "stream",
          "name": "stdout",
          "text": [
            "isim\n",
            "yaş\n",
            "şehir\n",
            "Ahmet\n",
            "25\n",
            "İstanbul\n"
          ]
        }
      ]
    },
    {
      "cell_type": "code",
      "source": [
        "for key, value in my_dict.items():\n",
        "    print(f\"{key}: {value}\")  # Çıktı: isim: Ahmet, yaş: 25, şehir: İstanbul\n"
      ],
      "metadata": {
        "colab": {
          "base_uri": "https://localhost:8080/"
        },
        "id": "YC_G22y3HuUs",
        "outputId": "4381f68b-7887-44e1-f357-962e3eeaff05"
      },
      "execution_count": null,
      "outputs": [
        {
          "output_type": "stream",
          "name": "stdout",
          "text": [
            "isim: Ahmet\n",
            "yaş: 25\n",
            "şehir: İstanbul\n"
          ]
        }
      ]
    },
    {
      "cell_type": "code",
      "source": [
        "my_set = {5, 10, 15}\n",
        "\n",
        "for item in my_set:\n",
        "    print(item)  # Çıktı: 5 10 15 (sıra farklı olabilir)\n"
      ],
      "metadata": {
        "id": "EGtOOiUhHvI9"
      },
      "execution_count": null,
      "outputs": []
    },
    {
      "cell_type": "code",
      "source": [
        "# bu kod yukarıdaki sehirler değişkenini kullanıyor.\n",
        "# çalıştırmadan önce o hücreyi çalıştırın...\n",
        "\n",
        "# A ile başlayan illerin ilçe sayısı\n",
        "print(sehirler.keys())\n",
        "print(\"-\"*60)\n",
        "print(\"Şehir Sayısı:\", len(sehirler))\n",
        "print(\"-\"*60)\n",
        "\n",
        "for key,val in sehirler.items():\n",
        "  if key[0] == \"A\":\n",
        "    print(key,len(val),val[:5])"
      ],
      "metadata": {
        "colab": {
          "base_uri": "https://localhost:8080/"
        },
        "id": "0DQ2I74t5Nxc",
        "outputId": "af52bc97-4403-43ab-cefa-5405c36c0ebd"
      },
      "execution_count": null,
      "outputs": [
        {
          "output_type": "stream",
          "name": "stdout",
          "text": [
            "dict_keys(['Adana', 'Adıyaman', 'Afyonkarahisar', 'Ağrı', 'Aksaray', 'Amasya', 'Ankara', 'Antalya', 'Ardahan', 'Artvin', 'Aydın', 'Balıkesir', 'Bartın', 'Batman', 'Bayburt', 'Bilecik', 'Bingöl', 'Bitlis', 'Bolu', 'Burdur', 'Bursa', 'Çanakkale', 'Çankırı', 'Çorum', 'Denizli', 'Diyarbakır', 'Düzce', 'Edirne', 'Elâzığ', 'Erzincan', 'Erzurum', 'Eskişehir', 'Gaziantep', 'Giresun', 'Gümüşhane', 'Hakkâri', 'Hatay', 'Iğdır', 'Isparta', 'İstanbul', 'İzmir', 'Kahramanmaraş', 'Karabük', 'Karaman', 'Kars', 'Kastamonu', 'Kayseri', 'Kırıkkale', 'Kırklareli', 'Kırşehir', 'Kilis', 'Kocaeli', 'Konya', 'Kütahya', 'Malatya', 'Manisa', 'Mardin', 'Mersin', 'Muğla', 'Muş', 'Nevşehir', 'Niğde', 'Ordu', 'Osmaniye', 'Rize', 'Sakarya', 'Samsun', 'Siirt', 'Sinop', 'Sivas', 'Şanlıurfa', 'Şırnak', 'Tekirdağ', 'Tokat', 'Trabzon', 'Tunceli', 'Uşak', 'Van', 'Yalova', 'Yozgat', 'Zonguldak'])\n",
            "------------------------------------------------------------\n",
            "Şehir Sayısı: 81\n",
            "------------------------------------------------------------\n",
            "Adana 15 ['Aladağ', 'Ceyhan', 'Çukurova', 'Feke', 'İmamoğlu']\n",
            "Adıyaman 9 ['Adıyaman', 'Besni', 'Çelikhan', 'Gerger', 'Gölbaşı']\n",
            "Afyonkarahisar 18 ['Afyonkarahisar', 'Başmakçı', 'Bayat', 'Bolvadin', 'Çay']\n",
            "Ağrı 8 ['Ağrı', 'Diyadin', 'Doğubayazıt', 'Eleşkirt', 'Hamur']\n",
            "Aksaray 7 ['Ağaçören', 'Aksaray', 'Eskil', 'Gülağaç', 'Güzelyurt']\n",
            "Amasya 7 ['Amasya', 'Göynücek', 'Gümüşhacıköy', 'Hamamözü', 'Merzifon']\n",
            "Ankara 25 ['Akyurt', 'Altındağ', 'Ayaş', 'Balâ', 'Beypazarı']\n",
            "Antalya 19 ['Akseki', 'Aksu', 'Alanya', 'Döşemealtı', 'Elmalı']\n",
            "Ardahan 6 ['Ardahan', 'Çıldır', 'Damal', 'Göle', 'Hanak']\n",
            "Artvin 8 ['Ardanuç', 'Arhavi', 'Artvin', 'Borçka', 'Hopa']\n",
            "Aydın 17 ['Bozdoğan', 'Buharkent', 'Çine', 'Didim', 'Efeler']\n"
          ]
        }
      ]
    },
    {
      "cell_type": "code",
      "source": [
        "# 20 den fazla ilçeye sahip iller\n",
        "sayac = 0\n",
        "ESIK = 20\n",
        "for sehir,ilceler in sehirler.items():\n",
        "  if len(ilceler) > ESIK :\n",
        "    print(sehir,len(ilceler),ilceler[:5])\n",
        "    sayac = sayac + 1\n",
        "\n",
        "print(\"-\"*60)\n",
        "print(ESIK,\" den fazla ilçeye sahip şehir sayısı:\",sayac)"
      ],
      "metadata": {
        "colab": {
          "base_uri": "https://localhost:8080/"
        },
        "id": "z7bI0PsEGdwF",
        "outputId": "a21e540c-8a32-47a8-dc42-f38f489e1329"
      },
      "execution_count": null,
      "outputs": [
        {
          "output_type": "stream",
          "name": "stdout",
          "text": [
            "Ankara 25 ['Akyurt', 'Altındağ', 'Ayaş', 'Balâ', 'Beypazarı']\n",
            "İstanbul 39 ['Adalar', 'Arnavutköy', 'Ataşehir', 'Avcılar', 'Bağcılar']\n",
            "İzmir 30 ['Aliağa', 'Balçova', 'Bayındır', 'Bayraklı', 'Bergama']\n",
            "Konya 31 ['Ahırlı', 'Akören', 'Akşehir', 'Altınekin', 'Beyşehir']\n",
            "------------------------------------------------------------\n",
            "20  den fazla ilçeye sahip şehir sayısı: 4\n"
          ]
        }
      ]
    },
    {
      "cell_type": "code",
      "source": [
        "for sehir,ilceler in sehirler.items():\n",
        "  for ilce in ilceler:\n",
        "    for sehir2,ilceler2 in sehirler.items():\n",
        "      if ilce in ilceler2 and sehir != sehir2:\n",
        "        print(ilce,\"==>:\",sehir,\",\",sehir2)\n",
        "\n",
        "print(\"-\"*60)\n",
        "print(sehirler[\"Konya\"])\n",
        "print(sehirler[\"Zonguldak\"])\n",
        "print(sehirler[\"Tekirdağ\"])"
      ],
      "metadata": {
        "colab": {
          "base_uri": "https://localhost:8080/"
        },
        "id": "XRt66JcRHzNo",
        "outputId": "45d0bb64-635b-46bd-85ab-e63a0820ba78"
      },
      "execution_count": null,
      "outputs": [
        {
          "output_type": "stream",
          "name": "stdout",
          "text": [
            "Gölbaşı ==>: Adıyaman , Ankara\n",
            "Bayat ==>: Afyonkarahisar , Çorum\n",
            "Ortaköy ==>: Aksaray , Çorum\n",
            "Gölbaşı ==>: Ankara , Adıyaman\n",
            "Aksu ==>: Antalya , Isparta\n",
            "Kemer ==>: Antalya , Burdur\n",
            "Yenipazar ==>: Aydın , Bilecik\n",
            "Edremit ==>: Balıkesir , Van\n",
            "Gönen ==>: Balıkesir , Isparta\n",
            "Yenipazar ==>: Bilecik , Aydın\n",
            "Altınyayla ==>: Burdur , Sivas\n",
            "Kemer ==>: Burdur , Antalya\n",
            "Yenişehir ==>: Bursa , Diyarbakır\n",
            "Yenişehir ==>: Bursa , Mersin\n",
            "Ayvacık ==>: Çanakkale , Samsun\n",
            "Yenice ==>: Çanakkale , Karabük\n",
            "Bayat ==>: Çorum , Afyonkarahisar\n",
            "Ortaköy ==>: Çorum , Aksaray\n",
            "Bozkurt ==>: Denizli , Kastamonu\n",
            "Kale ==>: Denizli , Malatya\n",
            "Yenişehir ==>: Diyarbakır , Bursa\n",
            "Yenişehir ==>: Diyarbakır , Mersin\n",
            "Aksu ==>: Isparta , Antalya\n",
            "Gönen ==>: Isparta , Balıkesir\n",
            "Ovacık ==>: Karabük , Tunceli\n",
            "Yenice ==>: Karabük , Çanakkale\n",
            "Bozkurt ==>: Kastamonu , Denizli\n",
            "Pınarbaşı ==>: Kastamonu , Kayseri\n",
            "Pınarbaşı ==>: Kayseri , Kastamonu\n",
            "Kale ==>: Malatya , Denizli\n",
            "Yeşilyurt ==>: Malatya , Tokat\n",
            "Köprübaşı ==>: Manisa , Trabzon\n",
            "Aydıncık ==>: Mersin , Yozgat\n",
            "Yenişehir ==>: Mersin , Bursa\n",
            "Yenişehir ==>: Mersin , Diyarbakır\n",
            "Ulubey ==>: Ordu , Uşak\n",
            "Pazar ==>: Rize , Tokat\n",
            "Ayvacık ==>: Samsun , Çanakkale\n",
            "Altınyayla ==>: Sivas , Burdur\n",
            "Saray ==>: Tekirdağ , Van\n",
            "Pazar ==>: Tokat , Rize\n",
            "Yeşilyurt ==>: Tokat , Malatya\n",
            "Köprübaşı ==>: Trabzon , Manisa\n",
            "Ovacık ==>: Tunceli , Karabük\n",
            "Ulubey ==>: Uşak , Ordu\n",
            "Edremit ==>: Van , Balıkesir\n",
            "Saray ==>: Van , Tekirdağ\n",
            "Aydıncık ==>: Yozgat , Mersin\n",
            "------------------------------------------------------------\n",
            "['Ahırlı', 'Akören', 'Akşehir', 'Altınekin', 'Beyşehir', 'Bozkır', 'Cihanbeyli', 'Çeltik', 'Çumra', 'Derbent', 'Derebucak', 'Doğanhisar', 'Emirgazi', 'Ereğli', 'Güneysınır', 'Hadım', 'Halkapınar', 'Hüyük', 'Ilgın', 'Kadınhanı', 'Karapınar', 'Karatay', 'Kulu', 'Meram', 'Sarayönü', 'Selçuklu', 'Seydişehir', 'Taşkent', 'Tuzlukçu', 'Yalıhüyük', 'Yunak']\n",
            "['Alaplı', 'Çaycuma', 'Devrek', 'Gökçebey', 'Kilimli', 'Kozlu', 'Karadeniz Ereğli', 'Zonguldak']\n",
            "['Çerkezköy', 'Çorlu', 'Ergene', 'Hayrabolu', 'Kapaklı', 'Malkara', 'Marmara Ereğlisi', 'Muratlı', 'Saray', 'Süleymanpaşa', 'Şarköy']\n"
          ]
        }
      ]
    },
    {
      "cell_type": "code",
      "source": [
        "# memleket değerini kullanıcıdan al\n",
        "memleket = input(\"Memleket giriniz: \")\n",
        "ilce_sayisi = len(sehirler[memleket])\n",
        "print(ilce_sayisi, sehirler[memleket])"
      ],
      "metadata": {
        "colab": {
          "base_uri": "https://localhost:8080/"
        },
        "id": "WPGJtMP4EqqO",
        "outputId": "1aa3c6cc-6b66-43cf-9895-e6846ccd01a5"
      },
      "execution_count": null,
      "outputs": [
        {
          "output_type": "stream",
          "name": "stdout",
          "text": [
            "Memleket giriniz: Bursa\n",
            "17 ['Büyükorhan', 'Gemlik', 'Gürsu', 'Harmancık', 'İnegöl', 'İznik', 'Karacabey', 'Keles', 'Kestel', 'Mudanya', 'Mustafakemalpaşa', 'Nilüfer', 'Orhaneli', 'Orhangazi', 'Osmangazi', 'Yenişehir', 'Yıldırım']\n"
          ]
        }
      ]
    },
    {
      "cell_type": "markdown",
      "source": [
        "## while"
      ],
      "metadata": {
        "id": "q0wzoCmkIHTB"
      }
    },
    {
      "cell_type": "code",
      "source": [
        "x = 0\n",
        "\n",
        "while x < 5:\n",
        "    print(x)\n",
        "    x += 1  # x değerini her seferinde 1 arttır\n"
      ],
      "metadata": {
        "id": "Vp195ZXWIRqH"
      },
      "execution_count": null,
      "outputs": []
    },
    {
      "cell_type": "code",
      "source": [
        "print(\"Merhaba, bu program basit bir toplama programıdır.\")\n",
        "print(\"Öncelikle bir sayı girin, daha sonra toplayacağınız diğer sayıları girdikçe siz toplma  sonucu verir.\")\n",
        "sayi1 = int(input(\"Birinci sayıyı girin: \"))\n",
        "toplam = sayi1\n",
        "print(\"Toplam:\", toplam)\n",
        "\n",
        "while True:\n",
        "    sayi = input(\"Bir sayı girin (çıkmak için 0 girin: \")\n",
        "    if sayi == \"0\":\n",
        "        break  # Kullanıcı 0 girerse döngü sonlanır\n",
        "    sayi = int(sayi)\n",
        "    toplam += sayi\n",
        "    print(\"Toplam:\", toplam)"
      ],
      "metadata": {
        "colab": {
          "base_uri": "https://localhost:8080/"
        },
        "id": "gYxVDh2WPDqW",
        "outputId": "d51e78c0-b8c9-4964-f01d-f23c0e24c848"
      },
      "execution_count": null,
      "outputs": [
        {
          "name": "stdout",
          "output_type": "stream",
          "text": [
            "Merhaba, bu program basit bir toplama programıdır.\n",
            "Öncelikle bir sayı girin, daha sonra toplayacağınız diğer sayıları girdikçe siz toplma  sonucu verir.\n",
            "Birinci sayıyı girin: 20\n",
            "Toplam: 20\n",
            "Bir sayı girin (çıkmak için 0 girin: 30\n",
            "Toplam: 50\n",
            "Bir sayı girin (çıkmak için 0 girin: 25\n",
            "Toplam: 75\n",
            "Bir sayı girin (çıkmak için 0 girin: 10\n",
            "Toplam: 85\n",
            "Bir sayı girin (çıkmak için 0 girin: 25\n",
            "Toplam: 110\n",
            "Bir sayı girin (çıkmak için 0 girin: 22\n",
            "Toplam: 132\n",
            "Bir sayı girin (çıkmak için 0 girin: 0\n"
          ]
        }
      ]
    },
    {
      "cell_type": "code",
      "source": [
        "import random\n",
        "\n",
        "# Rastgele bir sayı üretir (1 ile 100 arasında)\n",
        "hedef_sayi = random.randint(1, 100)\n",
        "sart = True\n",
        "while sart == True:\n",
        "    tahmin = int(input(\"1 ile 100 arasında bir sayı tahmin edin: \"))\n",
        "    if tahmin < hedef_sayi:\n",
        "        print(\"Daha yüksek bir sayı deneyin.\")\n",
        "    elif tahmin > hedef_sayi:\n",
        "        print(\"Daha düşük bir sayı deneyin.\")\n",
        "    else:\n",
        "        print(\"Tebrikler! Doğru tahmin ettiniz.\")\n",
        "        sart = False\n",
        "          # Doğru tahmin yapıldığında döngü sonlanır"
      ],
      "metadata": {
        "colab": {
          "base_uri": "https://localhost:8080/"
        },
        "id": "fCywQFLuQqOc",
        "outputId": "198fb68e-0008-4f8c-c8ef-344cb692eefc"
      },
      "execution_count": null,
      "outputs": [
        {
          "output_type": "stream",
          "name": "stdout",
          "text": [
            "1 ile 100 arasında bir sayı tahmin edin: 67\n",
            "Daha düşük bir sayı deneyin.\n",
            "1 ile 100 arasında bir sayı tahmin edin: 42\n",
            "Daha düşük bir sayı deneyin.\n",
            "1 ile 100 arasında bir sayı tahmin edin: 30\n",
            "Daha yüksek bir sayı deneyin.\n",
            "1 ile 100 arasında bir sayı tahmin edin: 36\n",
            "Daha düşük bir sayı deneyin.\n",
            "1 ile 100 arasında bir sayı tahmin edin: 33\n",
            "Daha düşük bir sayı deneyin.\n",
            "1 ile 100 arasında bir sayı tahmin edin: 32\n",
            "Tebrikler! Doğru tahmin ettiniz.\n"
          ]
        }
      ]
    },
    {
      "cell_type": "code",
      "source": [
        "alt_sinir = int(input(\"Alt sınır değerini girin: \"))\n",
        "ust_sinir = int(input(\"Üst sınır değerini girin: \"))\n",
        "\n",
        "while True:\n",
        "  tahmin = random.randint(alt_sinir, ust_sinir)\n",
        "  print(\"Benim tahminim\", tahmin)\n",
        "  cevap = input(\"Tahminim doğru mu? (y/a/e): \")\n",
        "  if cevap.lower() == \"e\":\n",
        "    print(\"Bana helal olsun.\")\n",
        "    break\n",
        "  elif cevap.lower() == \"a\":\n",
        "    ust_sinir = tahmin - 1\n",
        "  elif cevap.lower() == \"y\":\n",
        "    alt_sinir = tahmin + 1"
      ],
      "metadata": {
        "colab": {
          "base_uri": "https://localhost:8080/"
        },
        "id": "2jdfwVq9TDk2",
        "outputId": "d4c3cf1d-45cd-435d-d746-cdc342436382"
      },
      "execution_count": null,
      "outputs": [
        {
          "output_type": "stream",
          "name": "stdout",
          "text": [
            "Alt sınır değerini girin: 1\n",
            "Üst sınır değerini girin: 1000\n",
            "Benim tahminim 137\n",
            "Tahminim doğru mu? (y/a/e): y\n",
            "Benim tahminim 198\n",
            "Tahminim doğru mu? (y/a/e): y\n",
            "Benim tahminim 934\n",
            "Tahminim doğru mu? (y/a/e): a\n",
            "Benim tahminim 209\n",
            "Tahminim doğru mu? (y/a/e): y\n",
            "Benim tahminim 514\n",
            "Tahminim doğru mu? (y/a/e): a\n",
            "Benim tahminim 279\n",
            "Tahminim doğru mu? (y/a/e): y\n",
            "Benim tahminim 494\n",
            "Tahminim doğru mu? (y/a/e): a\n",
            "Benim tahminim 327\n",
            "Tahminim doğru mu? (y/a/e): y\n",
            "Benim tahminim 359\n",
            "Tahminim doğru mu? (y/a/e): y\n",
            "Benim tahminim 477\n",
            "Tahminim doğru mu? (y/a/e): a\n",
            "Benim tahminim 472\n",
            "Tahminim doğru mu? (y/a/e): a\n",
            "Benim tahminim 381\n",
            "Tahminim doğru mu? (y/a/e): y\n",
            "Benim tahminim 459\n",
            "Tahminim doğru mu? (y/a/e): y\n",
            "Benim tahminim 462\n",
            "Tahminim doğru mu? (y/a/e): e\n",
            "Bana helal olsun.\n"
          ]
        }
      ]
    },
    {
      "cell_type": "code",
      "source": [
        "girdi = \"\"\n",
        "\n",
        "while girdi != \"exit\":\n",
        "    girdi = input(\"Bir şeyler yazın (çıkmak için 'exit' yazın): \")\n",
        "    print(f\"Girdi: {girdi}\")\n"
      ],
      "metadata": {
        "id": "Ygbz8Do0ISl1"
      },
      "execution_count": null,
      "outputs": []
    },
    {
      "cell_type": "code",
      "source": [
        "i = 0\n",
        "\n",
        "while i < 10:\n",
        "    print(i)\n",
        "    if i == 5:\n",
        "        break  # i değeri 5 olduğunda döngüyü sonlandır\n",
        "    i += 1\n"
      ],
      "metadata": {
        "id": "HPn9-WhhIXGT"
      },
      "execution_count": null,
      "outputs": []
    },
    {
      "cell_type": "code",
      "source": [
        "i = 0\n",
        "\n",
        "while i < 7:\n",
        "    i += 1\n",
        "    if i == 3:\n",
        "        continue  # i 3 olduğunda bu adımı atlar ve bir sonraki adıma geçer\n",
        "    print(i)\n"
      ],
      "metadata": {
        "id": "OLa5cq3wIb8O"
      },
      "execution_count": null,
      "outputs": []
    },
    {
      "cell_type": "code",
      "source": [
        "while True:\n",
        "    girdi = input(\"Çıkmak için 'q' tuşlayın: \")\n",
        "    if girdi == 'q':\n",
        "        break  # Kullanıcı 'q' girerse döngü sonlanır\n",
        "    print(f\"Girdiniz: {girdi}\")\n"
      ],
      "metadata": {
        "id": "yeb7uL-MIeyF"
      },
      "execution_count": null,
      "outputs": []
    },
    {
      "cell_type": "code",
      "source": [
        "i = 1\n",
        "\n",
        "while i <= 3:  # Dış döngü\n",
        "    j = 1\n",
        "    while j <= 2:  # İç döngü\n",
        "        print(f\"Dış döngü: {i}, İç döngü: {j}\")\n",
        "        j += 1\n",
        "    i += 1\n"
      ],
      "metadata": {
        "id": "xjW-FDaRItkF"
      },
      "execution_count": null,
      "outputs": []
    },
    {
      "cell_type": "code",
      "source": [
        "i = 1\n",
        "my_list = [\"a\", \"b\", \"c\"]\n",
        "\n",
        "while i <= 3:  # Dış while döngüsü\n",
        "    print(f\"While döngüsü iterasyonu: {i}\")\n",
        "    for element in my_list:  # İç for döngüsü\n",
        "        print(f\"Liste elemanı: {element}\")\n",
        "    i += 1\n"
      ],
      "metadata": {
        "id": "b1JnjFUQIy0d"
      },
      "execution_count": null,
      "outputs": []
    },
    {
      "cell_type": "code",
      "source": [
        "for i in range(1, 4):  # Dış for döngüsü\n",
        "    print(f\"For döngüsü iterasyonu: {i}\")\n",
        "    j = 1\n",
        "    while j <= i:  # İç while döngüsü\n",
        "        print(f\"  İç while döngüsü iterasyonu: {j}\")\n",
        "        j += 1\n"
      ],
      "metadata": {
        "id": "Wg3XkRt8I1Sh"
      },
      "execution_count": null,
      "outputs": []
    },
    {
      "cell_type": "markdown",
      "source": [
        "## list comprehention"
      ],
      "metadata": {
        "id": "8CRUKpjOKOHN"
      }
    },
    {
      "cell_type": "code",
      "source": [
        "# [expression for item in iterable if condition]\n"
      ],
      "metadata": {
        "id": "pOxd8LuEKLys"
      },
      "execution_count": null,
      "outputs": []
    },
    {
      "cell_type": "code",
      "source": [
        "l1 = list(range(1,101))\n",
        "print(l1)\n",
        "\n",
        "l2 = []\n",
        "for elm in l1:\n",
        "  if elm % 2 == 1:\n",
        "    l2.append(elm)\n",
        "\n",
        "print(l2)"
      ],
      "metadata": {
        "colab": {
          "base_uri": "https://localhost:8080/"
        },
        "id": "YjewhRzKmRnF",
        "outputId": "b1369385-f53c-4bac-de59-a603c60aef77"
      },
      "execution_count": null,
      "outputs": [
        {
          "output_type": "stream",
          "name": "stdout",
          "text": [
            "[1, 2, 3, 4, 5, 6, 7, 8, 9, 10, 11, 12, 13, 14, 15, 16, 17, 18, 19, 20, 21, 22, 23, 24, 25, 26, 27, 28, 29, 30, 31, 32, 33, 34, 35, 36, 37, 38, 39, 40, 41, 42, 43, 44, 45, 46, 47, 48, 49, 50, 51, 52, 53, 54, 55, 56, 57, 58, 59, 60, 61, 62, 63, 64, 65, 66, 67, 68, 69, 70, 71, 72, 73, 74, 75, 76, 77, 78, 79, 80, 81, 82, 83, 84, 85, 86, 87, 88, 89, 90, 91, 92, 93, 94, 95, 96, 97, 98, 99, 100]\n",
            "[1, 3, 5, 7, 9, 11, 13, 15, 17, 19, 21, 23, 25, 27, 29, 31, 33, 35, 37, 39, 41, 43, 45, 47, 49, 51, 53, 55, 57, 59, 61, 63, 65, 67, 69, 71, 73, 75, 77, 79, 81, 83, 85, 87, 89, 91, 93, 95, 97, 99]\n"
          ]
        }
      ]
    },
    {
      "cell_type": "code",
      "source": [
        "l2 = [elm for elm in l1 if elm % 2 == 1]\n",
        "print(l2)"
      ],
      "metadata": {
        "colab": {
          "base_uri": "https://localhost:8080/"
        },
        "id": "HEWqoHICnfAV",
        "outputId": "814556be-31d0-41be-ef7f-a0c9d1a73085"
      },
      "execution_count": null,
      "outputs": [
        {
          "output_type": "stream",
          "name": "stdout",
          "text": [
            "[1, 3, 5, 7, 9, 11, 13, 15, 17, 19, 21, 23, 25, 27, 29, 31, 33, 35, 37, 39, 41, 43, 45, 47, 49, 51, 53, 55, 57, 59, 61, 63, 65, 67, 69, 71, 73, 75, 77, 79, 81, 83, 85, 87, 89, 91, 93, 95, 97, 99]\n"
          ]
        }
      ]
    },
    {
      "cell_type": "code",
      "source": [
        "start_with_a = [sehir for sehir in sehirler.keys() if sehir[0] == \"A\"]\n",
        "print(start_with_a)  # Çıktı: ['apple', 'ant']"
      ],
      "metadata": {
        "colab": {
          "base_uri": "https://localhost:8080/"
        },
        "id": "JWc7uTwKoA8O",
        "outputId": "af989db1-5491-44fd-e4eb-051ee1ce59be"
      },
      "execution_count": null,
      "outputs": [
        {
          "output_type": "stream",
          "name": "stdout",
          "text": [
            "['Adana', 'Adıyaman', 'Afyonkarahisar', 'Ağrı', 'Aksaray', 'Amasya', 'Ankara', 'Antalya', 'Ardahan', 'Artvin', 'Aydın']\n"
          ]
        }
      ]
    },
    {
      "cell_type": "code",
      "source": [
        "[\n",
        "    (\"Adana\",9),\n",
        "    (\"İstanbul\",34),\n",
        "    (\"Ankara\",6),\n",
        "    (\"İzmir\",35)\n",
        "]"
      ],
      "metadata": {
        "id": "r9NmQr9poeSl"
      },
      "execution_count": null,
      "outputs": []
    },
    {
      "cell_type": "code",
      "source": [
        "# listeyi hesap yaparak kopyala\n",
        "numbers = [1, 2, 3, 4, 5]\n",
        "squared_numbers = [x ** 2 for x in numbers]\n",
        "print(squared_numbers)  # Çıktı: [1, 4, 9, 16, 25]\n"
      ],
      "metadata": {
        "id": "sCsQN7f0KScp"
      },
      "execution_count": null,
      "outputs": []
    },
    {
      "cell_type": "code",
      "source": [
        "# koşullu\n",
        "numbers = [1, 2, 3, 4, 5, 6]\n",
        "even_numbers = [x for x in numbers if x % 2 == 0]\n",
        "print(even_numbers)  # Çıktı: [2, 4, 6]\n"
      ],
      "metadata": {
        "id": "nDFH4ECgKaba"
      },
      "execution_count": null,
      "outputs": []
    },
    {
      "cell_type": "code",
      "source": [
        "# karakterleri elde etme\n",
        "string = \"hello\"\n",
        "char_list = [char for char in string]\n",
        "print(char_list)  # Çıktı: ['h', 'e', 'l', 'l', 'o']\n",
        "print(list(char_list))  # Çıktı: ['h', 'e', 'l', 'l', 'o']\n",
        "print(set(char_list))  # Çıktı: ['h', 'e', 'l', 'o']\n"
      ],
      "metadata": {
        "colab": {
          "base_uri": "https://localhost:8080/"
        },
        "id": "H9Ca3l5-KpMf",
        "outputId": "66a99e7c-55bb-486b-dbfa-8f11e1ef9828"
      },
      "execution_count": null,
      "outputs": [
        {
          "output_type": "stream",
          "name": "stdout",
          "text": [
            "['h', 'e', 'l', 'l', 'o']\n",
            "['h', 'e', 'l', 'l', 'o']\n",
            "{'l', 'o', 'h', 'e'}\n"
          ]
        }
      ]
    },
    {
      "cell_type": "code",
      "source": [
        "# liste birleştirme\n",
        "list1 = [1, 2, 3]\n",
        "list2 = [4, 5, 6]\n",
        "combined_list = [x for x in list1] + [x for x in list2]\n",
        "print(combined_list)  # Çıktı: [1, 2, 3, 4, 5, 6]\n"
      ],
      "metadata": {
        "id": "3HMXx_NSK6Zc"
      },
      "execution_count": null,
      "outputs": []
    },
    {
      "cell_type": "code",
      "source": [
        "# string büyük harfe çevir\n",
        "words = [\"apple\", \"banana\", \"cherry\"]\n",
        "uppercase_words = [word.upper() for word in words]\n",
        "print(uppercase_words)  # Çıktı: ['APPLE', 'BANANA', 'CHERRY']\n"
      ],
      "metadata": {
        "id": "kTp9j_5eLFs6"
      },
      "execution_count": null,
      "outputs": []
    },
    {
      "cell_type": "code",
      "source": [
        "# iç içe comprehention\n",
        "matrix = [[j for j in range(3)] for i in range(3)]\n",
        "print(matrix)  # Çıktı: [[0, 1, 2], [0, 1, 2], [0, 1, 2]]\n"
      ],
      "metadata": {
        "id": "DLv8zo8hLJvD"
      },
      "execution_count": null,
      "outputs": []
    },
    {
      "cell_type": "code",
      "source": [
        "# çoğaltma\n",
        "numbers = [1, 2, 3]\n",
        "letters = ['a', 'b']\n",
        "combinations = [(x, y) for x in numbers for y in letters]\n",
        "print(combinations)  # Çıktı: [(1, 'a'), (1, 'b'), (2, 'a'), (2, 'b'), (3, 'a'), (3, 'b')]\n",
        "\n",
        "#"
      ],
      "metadata": {
        "colab": {
          "base_uri": "https://localhost:8080/"
        },
        "id": "iVo-kzc6LQAk",
        "outputId": "229c9e41-b4dc-4248-d971-eacae8bdf3d1"
      },
      "execution_count": null,
      "outputs": [
        {
          "output_type": "stream",
          "name": "stdout",
          "text": [
            "[(1, 'a'), (1, 'b'), (2, 'a'), (2, 'b'), (3, 'a'), (3, 'b')]\n"
          ]
        }
      ]
    },
    {
      "cell_type": "markdown",
      "source": [
        "# Fonksiyonlar"
      ],
      "metadata": {
        "id": "T29Po_I5MZUS"
      }
    },
    {
      "cell_type": "code",
      "source": [
        "def menu():\n",
        "  print(\"Merhaba\")\n",
        "  print(\"Program seçenkleri\")\n",
        "  print(\"1. Ekle\")\n",
        "  print(\"2. Güncelle\")\n",
        "  print(\"3. Listele\")\n",
        "  print(\"4. Ara\")\n",
        "  print(\"5. Çıkış\")\n",
        "\n",
        "while True:\n",
        "  menu()\n",
        "  secim = input(\"Seçiminiz: \")\n",
        "  print(secim)\n",
        "  if secim == \"5\":\n",
        "    break\n",
        "\n",
        "print(\"-\"*60)\n",
        "print(\"Program sonlandı\")\n",
        "menu()"
      ],
      "metadata": {
        "colab": {
          "base_uri": "https://localhost:8080/"
        },
        "id": "Ykpjey2KuMum",
        "outputId": "cf729513-c8d6-4052-d1c6-407d4e7bce33"
      },
      "execution_count": null,
      "outputs": [
        {
          "output_type": "stream",
          "name": "stdout",
          "text": [
            "Merhaba\n",
            "Program seçenkleri\n",
            "1. Ekle\n",
            "2. Güncelle\n",
            "3. Listele\n",
            "4. Ara\n",
            "5. Çıkış\n",
            "Seçiminiz: 5\n",
            "5\n",
            "------------------------------------------------------------\n",
            "Program sonlandı\n",
            "Merhaba\n",
            "Program seçenkleri\n",
            "1. Ekle\n",
            "2. Güncelle\n",
            "3. Listele\n",
            "4. Ara\n",
            "5. Çıkış\n"
          ]
        }
      ]
    },
    {
      "cell_type": "code",
      "source": [
        "# Fonksiyon tanımlama\n",
        "def greet(name):\n",
        "    print(f\"Merhaba, {name}!\")\n",
        "\n",
        "# Fonksiyonu çağırma\n",
        "greet(\"Ali\")\n",
        "greet(\"Veli\")\n"
      ],
      "metadata": {
        "colab": {
          "base_uri": "https://localhost:8080/"
        },
        "id": "DVszE9-lMdDP",
        "outputId": "ad4a34d5-3809-489f-bb3e-d5e67f56a635"
      },
      "execution_count": null,
      "outputs": [
        {
          "output_type": "stream",
          "name": "stdout",
          "text": [
            "Merhaba, Ali!\n",
            "Merhaba, Veli!\n"
          ]
        }
      ]
    },
    {
      "cell_type": "code",
      "source": [
        "val = 10\n",
        "l2 = [elm**2 for elm in range(1,val+1) if elm % 2 == 1]\n",
        "print(l2)\n",
        "\n",
        "val = 20\n",
        "l2 = [elm**2 for elm in range(1,val+1) if elm % 2 == 1]\n",
        "print(l2)"
      ],
      "metadata": {
        "colab": {
          "base_uri": "https://localhost:8080/"
        },
        "id": "i6B1VcptvyWW",
        "outputId": "95f0adcd-5b0f-4b79-996d-c1bcd849a5fc"
      },
      "execution_count": null,
      "outputs": [
        {
          "output_type": "stream",
          "name": "stdout",
          "text": [
            "[1, 9, 25, 49, 81]\n",
            "[1, 9, 25, 49, 81, 121, 169, 225, 289, 361]\n"
          ]
        }
      ]
    },
    {
      "cell_type": "code",
      "source": [
        "def dizi_olustur(val):\n",
        "  l2 = [elm**2 for elm in range(1,val+1) if elm % 2 == 1]\n",
        "  print(l2)\n",
        "\n",
        "dizi_olustur(10)\n",
        "dizi_olustur(20)\n",
        "dizi_olustur(50)"
      ],
      "metadata": {
        "colab": {
          "base_uri": "https://localhost:8080/"
        },
        "id": "-GwsZYYowZnl",
        "outputId": "5d1e399a-8359-4b50-f5f2-886d2cc8ebe5"
      },
      "execution_count": null,
      "outputs": [
        {
          "output_type": "stream",
          "name": "stdout",
          "text": [
            "[1, 9, 25, 49, 81]\n",
            "[1, 9, 25, 49, 81, 121, 169, 225, 289, 361]\n",
            "[1, 9, 25, 49, 81, 121, 169, 225, 289, 361, 441, 529, 625, 729, 841, 961, 1089, 1225, 1369, 1521, 1681, 1849, 2025, 2209, 2401]\n"
          ]
        }
      ]
    },
    {
      "cell_type": "code",
      "source": [],
      "metadata": {
        "id": "if_c9DoWxLfO"
      },
      "execution_count": null,
      "outputs": []
    },
    {
      "cell_type": "code",
      "source": [
        "# Fonksiyon tanımlama\n",
        "def add_numbers(a=0, b=0):\n",
        "    return a + b\n",
        "\n",
        "# Fonksiyonu çağırma ve parametre gönderme\n",
        "result = add_numbers(10,2)\n",
        "print(result)\n"
      ],
      "metadata": {
        "colab": {
          "base_uri": "https://localhost:8080/",
          "height": 198
        },
        "id": "n9Fj6R5qMd6I",
        "outputId": "ece067d1-ef24-45d7-a25d-26be1f2cb64e"
      },
      "execution_count": null,
      "outputs": [
        {
          "output_type": "error",
          "ename": "TypeError",
          "evalue": "add_numbers() missing 1 required positional argument: 'b'",
          "traceback": [
            "\u001b[0;31m---------------------------------------------------------------------------\u001b[0m",
            "\u001b[0;31mTypeError\u001b[0m                                 Traceback (most recent call last)",
            "\u001b[0;32m<ipython-input-78-99a08bf1e9c3>\u001b[0m in \u001b[0;36m<cell line: 6>\u001b[0;34m()\u001b[0m\n\u001b[1;32m      4\u001b[0m \u001b[0;34m\u001b[0m\u001b[0m\n\u001b[1;32m      5\u001b[0m \u001b[0;31m# Fonksiyonu çağırma ve parametre gönderme\u001b[0m\u001b[0;34m\u001b[0m\u001b[0;34m\u001b[0m\u001b[0m\n\u001b[0;32m----> 6\u001b[0;31m \u001b[0mresult\u001b[0m \u001b[0;34m=\u001b[0m \u001b[0madd_numbers\u001b[0m\u001b[0;34m(\u001b[0m\u001b[0;36m10\u001b[0m\u001b[0;34m)\u001b[0m\u001b[0;34m\u001b[0m\u001b[0;34m\u001b[0m\u001b[0m\n\u001b[0m\u001b[1;32m      7\u001b[0m \u001b[0mprint\u001b[0m\u001b[0;34m(\u001b[0m\u001b[0mresult\u001b[0m\u001b[0;34m)\u001b[0m\u001b[0;34m\u001b[0m\u001b[0;34m\u001b[0m\u001b[0m\n",
            "\u001b[0;31mTypeError\u001b[0m: add_numbers() missing 1 required positional argument: 'b'"
          ]
        }
      ]
    },
    {
      "cell_type": "code",
      "source": [
        "# varsayılan değer atama\n",
        "# Fonksiyon tanımlama\n",
        "def greet(name=\"Ziyaretçi\"):\n",
        "    print(f\"Merhaba, {name}!\")\n",
        "\n",
        "# Fonksiyonu çağırma (varsayılan değeri kullanarak)\n",
        "greet()\n",
        "\n",
        "# Fonksiyonu çağırma (belirli bir parametre ile)\n",
        "greet(\"Ayşe\")\n"
      ],
      "metadata": {
        "colab": {
          "base_uri": "https://localhost:8080/"
        },
        "id": "C2lZhWVbMgiN",
        "outputId": "67e56e06-bb81-4b1b-9ec4-9067975f8014"
      },
      "execution_count": null,
      "outputs": [
        {
          "output_type": "stream",
          "name": "stdout",
          "text": [
            "Merhaba, Ziyaretçi!\n",
            "Merhaba, Ayşe!\n"
          ]
        }
      ]
    },
    {
      "cell_type": "code",
      "source": [
        "# geridönüş değeri\n",
        "\n",
        "# Fonksiyon tanımlama\n",
        "def square(x):\n",
        "    return x * x\n",
        "\n",
        "# Fonksiyonu çağırma ve geri dönüş değerini alma\n",
        "result = square(4)\n",
        "print(result)  # Çıktı: 16\n"
      ],
      "metadata": {
        "id": "Fppl4TDyMjMF"
      },
      "execution_count": null,
      "outputs": []
    },
    {
      "cell_type": "code",
      "source": [
        "def mul(first=1,second=1):\n",
        "  print(\"first:\",first)\n",
        "  print(\"second:\",second)\n",
        "  return first * second\n",
        "\n",
        "print(mul(2,3))\n",
        "print(mul(2))\n",
        "print(mul())"
      ],
      "metadata": {
        "colab": {
          "base_uri": "https://localhost:8080/"
        },
        "id": "rfHm8FWq7gq8",
        "outputId": "5144954d-846a-4659-ed13-6cdde949338c"
      },
      "execution_count": null,
      "outputs": [
        {
          "output_type": "stream",
          "name": "stdout",
          "text": [
            "first: 2\n",
            "second: 3\n",
            "6\n",
            "first: 2\n",
            "second: 1\n",
            "2\n",
            "first: 1\n",
            "second: 1\n",
            "1\n"
          ]
        }
      ]
    },
    {
      "cell_type": "code",
      "source": [
        "def max_min(numbers):\n",
        "    return max(numbers), min(numbers)\n",
        "\n",
        "# Fonksiyonu çağırma ve geri dönüş değerlerini alma\n",
        "maximum, minimum = max_min([3, 5, 1, 9, 7])\n",
        "print(f\"Maximum: {maximum}, Minimum: {minimum}\")"
      ],
      "metadata": {
        "colab": {
          "base_uri": "https://localhost:8080/"
        },
        "id": "gTvwZxhZ8RAs",
        "outputId": "4b151ce9-4210-4f6e-a5ad-67bc93755e3e"
      },
      "execution_count": null,
      "outputs": [
        {
          "output_type": "stream",
          "name": "stdout",
          "text": [
            "Maximum: 9, Minimum: 1\n"
          ]
        }
      ]
    },
    {
      "cell_type": "code",
      "source": [
        "# örnek: öğrenci notlarını kullanıcıdan al\n",
        "# 0 girince not alımını durdur\n",
        "# daha sonra bir fonksiyon yaz, max,min,avg bulsun\n",
        "\n",
        "def max_min(numbers=[0]):\n",
        "    return max(numbers), min(numbers)\n",
        "\n",
        "# Fonksiyonu çağırma ve geri dönüş değerlerini alma\n",
        "maximum, minimum = max_min([3, 5, 1, 9, 7])\n",
        "print(f\"Maximum: {maximum}, Minimum: {minimum}\")\n",
        "maximum, minimum = max_min()\n",
        "print(f\"Maximum: {maximum}, Minimum: {minimum}\")"
      ],
      "metadata": {
        "colab": {
          "base_uri": "https://localhost:8080/"
        },
        "id": "H_ti-eLO840u",
        "outputId": "d3cd9e1e-f173-4c4f-f432-49b137462b6a"
      },
      "execution_count": null,
      "outputs": [
        {
          "output_type": "stream",
          "name": "stdout",
          "text": [
            "Maximum: (9, 1), Minimum: 0\n",
            "Maximum: 0, Minimum: 0\n"
          ]
        }
      ]
    },
    {
      "cell_type": "code",
      "source": [
        "def profil(name,surname,phone,email,city,age):\n",
        "  print(\"-\"*60)\n",
        "  print(\"İsim:\",name,end=\"\\n----\",sep=\"-----\")\n",
        "  print(\"Soyisim:\",surname)\n",
        "  print(\"Telefon:\",phone)\n",
        "  print(\"Email:\",email)\n",
        "  print(\"Şehir:\",city)\n",
        "  print(\"Yaş:\",age)\n",
        "  print(\"-\"*60)\n",
        "\n",
        "\n",
        "profil(name=\"Zafer\",\n",
        "       surname=\"Yavuz\",\n",
        "       city=\"Trabzon\",\n",
        "       age=44,\n",
        "       email=\"zyavuz@ceng.ktu.edu.tr\",\n",
        "       phone=\"0505 1234567\")\n",
        "\n"
      ],
      "metadata": {
        "colab": {
          "base_uri": "https://localhost:8080/"
        },
        "id": "IL4GxrtGFtCd",
        "outputId": "ac52c59f-9aba-4dcf-dbdf-8430cecb48e7"
      },
      "execution_count": null,
      "outputs": [
        {
          "output_type": "stream",
          "name": "stdout",
          "text": [
            "------------------------------------------------------------\n",
            "İsim:-----Zafer\n",
            "----Soyisim: Yavuz\n",
            "Telefon: 0505 1234567\n",
            "Email: zyavuz@ceng.ktu.edu.tr\n",
            "Şehir: Trabzon\n",
            "Yaş: 44\n",
            "------------------------------------------------------------\n"
          ]
        }
      ]
    },
    {
      "cell_type": "code",
      "source": [
        "abece = \"abcçdefgğhıijklmnoöprsştuüvyz\"\n",
        "abece = abece.upper()\n",
        "print(abece[7])"
      ],
      "metadata": {
        "colab": {
          "base_uri": "https://localhost:8080/"
        },
        "id": "v0yhcEu0JRsA",
        "outputId": "4d6c4e25-0bc0-487a-f386-8e4b86da8468"
      },
      "execution_count": null,
      "outputs": [
        {
          "output_type": "stream",
          "name": "stdout",
          "text": [
            "G\n"
          ]
        }
      ]
    },
    {
      "cell_type": "code",
      "source": [
        "import random\n",
        "liste = [\"edanur\",\"damla\",\"esma\",\"umit\",\"Berk\",'ihsan',\"sümeyye\",\"emre\",\"ertuğrul\",\"Muhammed\",\"beytullah\",'yusuf',\"erdem\"]\n",
        "\n",
        "while True:\n",
        "  sec = random.choice(liste)\n",
        "  print(sec)\n",
        "  liste.remove(sec)\n",
        "  print(liste)\n",
        "  if len(liste) == 0:\n",
        "    break\n",
        "  girdi = input(\"Devam (e/h)? \")\n",
        "  if girdi == \"h\":\n",
        "    break"
      ],
      "metadata": {
        "colab": {
          "base_uri": "https://localhost:8080/"
        },
        "id": "rYscu3bQLbpC",
        "outputId": "cab5ce20-12f8-4455-9e40-f5c62ee6e728"
      },
      "execution_count": null,
      "outputs": [
        {
          "output_type": "stream",
          "name": "stdout",
          "text": [
            "edanur\n",
            "['damla', 'esma', 'umit', 'Berk', 'ihsan', 'sümeyye', 'emre', 'ertuğrul', 'Muhammed', 'beytullah', 'yusuf', 'erdem']\n",
            "Devam (e/h)? e\n",
            "umit\n",
            "['damla', 'esma', 'Berk', 'ihsan', 'sümeyye', 'emre', 'ertuğrul', 'Muhammed', 'beytullah', 'yusuf', 'erdem']\n",
            "Devam (e/h)? e\n",
            "sümeyye\n",
            "['damla', 'esma', 'Berk', 'ihsan', 'emre', 'ertuğrul', 'Muhammed', 'beytullah', 'yusuf', 'erdem']\n",
            "Devam (e/h)? e\n",
            "Berk\n",
            "['damla', 'esma', 'ihsan', 'emre', 'ertuğrul', 'Muhammed', 'beytullah', 'yusuf', 'erdem']\n",
            "Devam (e/h)? e\n",
            "ertuğrul\n",
            "['damla', 'esma', 'ihsan', 'emre', 'Muhammed', 'beytullah', 'yusuf', 'erdem']\n",
            "Devam (e/h)? e\n",
            "yusuf\n",
            "['damla', 'esma', 'ihsan', 'emre', 'Muhammed', 'beytullah', 'erdem']\n",
            "Devam (e/h)? e\n",
            "beytullah\n",
            "['damla', 'esma', 'ihsan', 'emre', 'Muhammed', 'erdem']\n",
            "Devam (e/h)? e\n",
            "ihsan\n",
            "['damla', 'esma', 'emre', 'Muhammed', 'erdem']\n",
            "Devam (e/h)? e\n",
            "emre\n",
            "['damla', 'esma', 'Muhammed', 'erdem']\n",
            "Devam (e/h)? e\n",
            "esma\n",
            "['damla', 'Muhammed', 'erdem']\n",
            "Devam (e/h)? e\n",
            "erdem\n",
            "['damla', 'Muhammed']\n",
            "Devam (e/h)? e\n",
            "damla\n",
            "['Muhammed']\n",
            "Devam (e/h)? e\n",
            "Muhammed\n",
            "[]\n"
          ]
        }
      ]
    },
    {
      "cell_type": "code",
      "source": [
        "# birden çok geri dönüş değeri\n",
        "\n",
        "# Fonksiyon tanımlama\n",
        "def min_max(numbers):\n",
        "    return min(numbers), max(numbers)\n",
        "\n",
        "# Fonksiyonu çağırma ve geri dönüş değerlerini alma\n",
        "minimum, maximum = min_max([3, 5, 1, 9, 7])\n",
        "print(f\"Minimum: {minimum}, Maximum: {maximum}\")\n",
        "# Çıktı: Minimum: 1, Maximum: 9\n"
      ],
      "metadata": {
        "id": "L7SwfOuhMt49"
      },
      "execution_count": null,
      "outputs": []
    },
    {
      "cell_type": "code",
      "source": [
        "# belirsiz sayıda parametre\n",
        "\n",
        "# Fonksiyon tanımlama\n",
        "def sum_all(*args):\n",
        "    return sum(args)\n",
        "\n",
        "# Fonksiyonu çağırma ve belirsiz sayıda parametre gönderme\n",
        "result = sum_all(1, 2, 3, 4, 5)\n",
        "print(result)  # Çıktı: 15\n"
      ],
      "metadata": {
        "id": "eTIVPakGM4OT"
      },
      "execution_count": null,
      "outputs": []
    },
    {
      "cell_type": "code",
      "source": [
        "# anahtar kelime ile parametre gönderme\n",
        "\n",
        "# Fonksiyon tanımlama\n",
        "def describe_person(name, age):\n",
        "    print(f\"Ad: {name}, Yaş: {age}\")\n",
        "\n",
        "# Fonksiyona anahtar kelime argümanları ile değer gönderme\n",
        "describe_person(age=30, name=\"Ahmet\")  # Çıktı: Ad: Ahmet, Yaş: 30\n"
      ],
      "metadata": {
        "id": "0Es3Kn_FNAVA"
      },
      "execution_count": null,
      "outputs": []
    }
  ]
}